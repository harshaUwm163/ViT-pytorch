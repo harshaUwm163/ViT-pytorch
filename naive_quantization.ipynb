{
 "cells": [
  {
   "cell_type": "code",
   "execution_count": 53,
   "metadata": {},
   "outputs": [],
   "source": [
    "from train import valid, set_seed\n",
    "from apex import amp\n",
    "import torch\n",
    "import argparse\n",
    "from addict import Dict\n",
    "import logging\n",
    "import matplotlib.pyplot as plt\n",
    "import logging\n",
    "from utils.data_utils import get_loader\n",
    "from models.modeling import VisionTransformer, CONFIGS\n",
    "import numpy as np\n",
    "from torch.utils.data import Subset\n",
    "!export CUDA_VISIBLE_DEVICES=2\n",
    "import torch.nn.functional as F"
   ]
  },
  {
   "cell_type": "code",
   "execution_count": 54,
   "metadata": {},
   "outputs": [],
   "source": [
    "from utils.construct_tff import construct_real_tff, construct_tight_frames"
   ]
  },
  {
   "cell_type": "code",
   "execution_count": 55,
   "metadata": {},
   "outputs": [],
   "source": [
    "logging.basicConfig(level=logging.INFO, format='%(asctime)s - %(name)s - %(levelname)s - %(message)s')\n",
    "logger = logging.getLogger(__name__)"
   ]
  },
  {
   "cell_type": "code",
   "execution_count": 56,
   "metadata": {},
   "outputs": [],
   "source": [
    "def count_parameters(model):\n",
    "    params = sum(p.numel() for p in model.parameters() if p.requires_grad)\n",
    "    return params/1000000\n"
   ]
  },
  {
   "cell_type": "code",
   "execution_count": 57,
   "metadata": {},
   "outputs": [],
   "source": [
    "args = Dict()\n",
    "args.model_type = 'ViT-B_16'\n",
    "args.dataset = 'inet1k_cats'\n",
    "args.img_size = 224\n",
    "args.pretrained_dir = 'checkpoint/ViT-B_16-224.npz'\n",
    "device = torch.device(\"cuda\" if torch.cuda.is_available() else \"cpu\")\n",
    "args.device = device\n",
    "args.local_rank = -1\n",
    "args.train_batch_size = 16\n",
    "args.eval_batch_size = 16\n",
    "\n",
    "# args.dataset = 'inet1k_cats'\n",
    "# args.dataset_dir = 'data/inet1k_classes/cats'\n",
    "# ckpt_path = 'output/inet1k_cats-2023-10-02-22-19-15/inet1k_cats_final_ckpt.bin' \n",
    "args.dataset = 'inet1k_birds'\n",
    "args.dataset_dir = 'data/inet1k_classes/birds'\n",
    "ckpt_path = 'output/inet1k_birds-2023-10-17-03-04-30/inet1k_birds_final_ckpt.bin'\n",
    "# args.dataset = 'inet1k_dogs'\n",
    "# args.dataset_dir = 'data/inet1k_classes/dogs'\n",
    "# ckpt_path = 'output/inet1k_dogs-2023-09-24-21-00-17/inet1k_dogs_final_ckpt.bin'\n",
    "# args.dataset = 'inet1k_snakes'\n",
    "# args.dataset_dir = 'data/inet1k_classes/snakes'\n",
    "# ckpt_path = 'output/inet1k_snakes-2023-10-02-22-28-06/inet1k_snakes_final_ckpt.bin'\n",
    "# args.dataset = 'inet1k_trucks'\n",
    "# args.dataset_dir = 'data/inet1k_classes/trucks'\n",
    "# ckpt_path = 'output/inet1k_trucks-2023-09-24-20-47-28/inet1k_trucks_final_ckpt.bin'\n"
   ]
  },
  {
   "cell_type": "code",
   "execution_count": 58,
   "metadata": {},
   "outputs": [
    {
     "name": "stderr",
     "output_type": "stream",
     "text": [
      "2023-10-27 13:33:28,760 - __main__ - INFO - classifier: token\n",
      "hidden_size: 768\n",
      "patches:\n",
      "  size: !!python/tuple\n",
      "  - 16\n",
      "  - 16\n",
      "representation_size: null\n",
      "transformer:\n",
      "  attention_dropout_rate: 0.0\n",
      "  dropout_rate: 0.1\n",
      "  mlp_dim: 3072\n",
      "  num_heads: 12\n",
      "  num_layers: 12\n",
      "\n",
      "2023-10-27 13:33:28,762 - __main__ - INFO - Training parameters {'model_type': 'ViT-B_16', 'dataset': 'inet1k_birds', 'img_size': 224, 'pretrained_dir': 'checkpoint/ViT-B_16-224.npz', 'device': device(type='cuda'), 'local_rank': -1, 'train_batch_size': 16, 'eval_batch_size': 16, 'dataset_dir': 'data/inet1k_classes/birds'}\n",
      "2023-10-27 13:33:28,762 - __main__ - INFO - Total Parameter: \t85.8M\n"
     ]
    }
   ],
   "source": [
    "# Prepare model\n",
    "config = CONFIGS[args.model_type]\n",
    "\n",
    "if args.dataset == \"cifar10\":\n",
    "    num_classes = 10\n",
    "elif args.dataset == \"cifar100\":\n",
    "    num_classes = 100\n",
    "elif 'inet' in args.dataset:\n",
    "    num_classes = 10\n",
    "\n",
    "model = VisionTransformer(config, args.img_size, zero_head=False, num_classes=num_classes)\n",
    "# model.load_from(np.load(args.pretrained_dir))\n",
    "model.load_state_dict(torch.load(ckpt_path))\n",
    "model.to(args.device)\n",
    "model.eval()\n",
    "num_params = count_parameters(model)\n",
    "\n",
    "logger.info(\"{}\".format(config))\n",
    "logger.info(\"Training parameters %s\", args)\n",
    "logger.info(\"Total Parameter: \\t%2.1fM\" % num_params)\n",
    "\n"
   ]
  },
  {
   "cell_type": "code",
   "execution_count": 59,
   "metadata": {},
   "outputs": [],
   "source": [
    "train_loader, test_loader = get_loader(args)\n",
    "classes = train_loader.dataset.dataset.classes\n"
   ]
  },
  {
   "cell_type": "code",
   "execution_count": 60,
   "metadata": {},
   "outputs": [
    {
     "name": "stderr",
     "output_type": "stream",
     "text": [
      "2023-10-27 13:33:29,955 - train - INFO - ***** Running Validation *****\n",
      "2023-10-27 13:33:29,956 - train - INFO -   Num steps = 155\n",
      "2023-10-27 13:33:29,957 - train - INFO -   Batch size = 16\n",
      "Validating... (loss=0.05767): 100%|| 155/155 [00:08<00:00, 18.48it/s]\n",
      "2023-10-27 13:33:38,350 - train - INFO - \n",
      "\n",
      "2023-10-27 13:33:38,351 - train - INFO - Validation Results\n",
      "2023-10-27 13:33:38,352 - train - INFO - Global Steps: 0\n",
      "2023-10-27 13:33:38,352 - train - INFO - Valid Loss: 0.01231\n",
      "2023-10-27 13:33:38,353 - train - INFO - Valid Accuracy: 0.99718\n"
     ]
    },
    {
     "name": "stdout",
     "output_type": "stream",
     "text": [
      "0.9971762807583703\n"
     ]
    }
   ],
   "source": [
    "val_acc = valid(args, model, writer=None, test_loader=test_loader, global_step=0)\n",
    "print(val_acc)"
   ]
  },
  {
   "cell_type": "code",
   "execution_count": 61,
   "metadata": {},
   "outputs": [],
   "source": [
    "def quantize_qfna(x, scale, zero, maxq):\n",
    "    q = torch.clamp(torch.round(x / scale) + zero, 0, maxq)\n",
    "    return scale * (q - zero)\n"
   ]
  },
  {
   "cell_type": "code",
   "execution_count": 52,
   "metadata": {},
   "outputs": [
    {
     "name": "stdout",
     "output_type": "stream",
     "text": [
      "cuda\n"
     ]
    }
   ],
   "source": [
    "print(args.device)"
   ]
  },
  {
   "cell_type": "code",
   "execution_count": 51,
   "metadata": {},
   "outputs": [
    {
     "name": "stdout",
     "output_type": "stream",
     "text": [
      "redundancy = 1\n",
      "bw = 2\n",
      "transformer.encoder.layer.0.ffn.fc1.bias\n",
      "transformer.encoder.layer.0.ffn.fc2.bias\n",
      "transformer.encoder.layer.0.attn.query.bias\n",
      "transformer.encoder.layer.0.attn.key.bias\n",
      "transformer.encoder.layer.0.attn.value.bias\n",
      "transformer.encoder.layer.0.attn.out.bias\n",
      "transformer.encoder.layer.1.ffn.fc1.bias\n",
      "transformer.encoder.layer.1.ffn.fc2.bias\n",
      "transformer.encoder.layer.1.attn.query.bias\n",
      "transformer.encoder.layer.1.attn.key.bias\n",
      "transformer.encoder.layer.1.attn.value.bias\n",
      "transformer.encoder.layer.1.attn.out.bias\n",
      "transformer.encoder.layer.2.ffn.fc1.bias\n",
      "transformer.encoder.layer.2.ffn.fc2.bias\n",
      "transformer.encoder.layer.2.attn.query.bias\n",
      "transformer.encoder.layer.2.attn.key.bias\n",
      "transformer.encoder.layer.2.attn.value.bias\n",
      "transformer.encoder.layer.2.attn.out.bias\n",
      "transformer.encoder.layer.3.ffn.fc1.bias\n",
      "transformer.encoder.layer.3.ffn.fc2.bias\n",
      "transformer.encoder.layer.3.attn.query.bias\n",
      "transformer.encoder.layer.3.attn.key.bias\n",
      "transformer.encoder.layer.3.attn.value.bias\n",
      "transformer.encoder.layer.3.attn.out.bias\n",
      "transformer.encoder.layer.4.ffn.fc1.bias\n",
      "transformer.encoder.layer.4.ffn.fc2.bias\n",
      "transformer.encoder.layer.4.attn.query.bias\n",
      "transformer.encoder.layer.4.attn.key.bias\n",
      "transformer.encoder.layer.4.attn.value.bias\n",
      "transformer.encoder.layer.4.attn.out.bias\n",
      "transformer.encoder.layer.5.ffn.fc1.bias\n",
      "transformer.encoder.layer.5.ffn.fc2.bias\n",
      "transformer.encoder.layer.5.attn.query.bias\n",
      "transformer.encoder.layer.5.attn.key.bias\n",
      "transformer.encoder.layer.5.attn.value.bias\n",
      "transformer.encoder.layer.5.attn.out.bias\n",
      "transformer.encoder.layer.6.ffn.fc1.bias\n",
      "transformer.encoder.layer.6.ffn.fc2.bias\n",
      "transformer.encoder.layer.6.attn.query.bias\n",
      "transformer.encoder.layer.6.attn.key.bias\n",
      "transformer.encoder.layer.6.attn.value.bias\n",
      "transformer.encoder.layer.6.attn.out.bias\n",
      "transformer.encoder.layer.7.ffn.fc1.bias\n",
      "transformer.encoder.layer.7.ffn.fc2.bias\n",
      "transformer.encoder.layer.7.attn.query.bias\n",
      "transformer.encoder.layer.7.attn.key.bias\n",
      "transformer.encoder.layer.7.attn.value.bias\n",
      "transformer.encoder.layer.7.attn.out.bias\n",
      "transformer.encoder.layer.8.ffn.fc1.bias\n",
      "transformer.encoder.layer.8.ffn.fc2.bias\n",
      "transformer.encoder.layer.8.attn.query.bias\n",
      "transformer.encoder.layer.8.attn.key.bias\n",
      "transformer.encoder.layer.8.attn.value.bias\n",
      "transformer.encoder.layer.8.attn.out.bias\n",
      "transformer.encoder.layer.9.ffn.fc1.bias\n",
      "transformer.encoder.layer.9.ffn.fc2.bias\n",
      "transformer.encoder.layer.9.attn.query.bias\n",
      "transformer.encoder.layer.9.attn.key.bias\n",
      "transformer.encoder.layer.9.attn.value.bias\n",
      "transformer.encoder.layer.9.attn.out.bias\n",
      "transformer.encoder.layer.10.ffn.fc1.bias\n",
      "transformer.encoder.layer.10.ffn.fc2.bias\n",
      "transformer.encoder.layer.10.attn.query.bias\n",
      "transformer.encoder.layer.10.attn.key.bias\n",
      "transformer.encoder.layer.10.attn.value.bias\n",
      "transformer.encoder.layer.10.attn.out.bias\n",
      "transformer.encoder.layer.11.ffn.fc1.bias\n",
      "transformer.encoder.layer.11.ffn.fc2.bias\n",
      "transformer.encoder.layer.11.attn.query.bias\n",
      "transformer.encoder.layer.11.attn.key.bias\n"
     ]
    },
    {
     "name": "stderr",
     "output_type": "stream",
     "text": [
      "2023-10-26 15:33:08,557 - train - INFO - ***** Running Validation *****\n",
      "2023-10-26 15:33:08,558 - train - INFO -   Num steps = 155\n",
      "2023-10-26 15:33:08,559 - train - INFO -   Batch size = 16\n"
     ]
    },
    {
     "name": "stdout",
     "output_type": "stream",
     "text": [
      "transformer.encoder.layer.11.attn.value.bias\n",
      "transformer.encoder.layer.11.attn.out.bias\n"
     ]
    },
    {
     "name": "stderr",
     "output_type": "stream",
     "text": [
      "Validating... (loss=2.51190): 100%|| 155/155 [00:08<00:00, 18.61it/s]\n",
      "2023-10-26 15:33:16,891 - train - INFO - \n",
      "\n",
      "2023-10-26 15:33:16,892 - train - INFO - Validation Results\n",
      "2023-10-26 15:33:16,893 - train - INFO - Global Steps: 0\n",
      "2023-10-26 15:33:16,893 - train - INFO - Valid Loss: 2.64504\n",
      "2023-10-26 15:33:16,894 - train - INFO - Valid Accuracy: 0.07705\n"
     ]
    },
    {
     "name": "stdout",
     "output_type": "stream",
     "text": [
      "bw = 3\n",
      "transformer.encoder.layer.0.ffn.fc1.bias\n",
      "transformer.encoder.layer.0.ffn.fc2.bias\n",
      "transformer.encoder.layer.0.attn.query.bias\n",
      "transformer.encoder.layer.0.attn.key.bias\n",
      "transformer.encoder.layer.0.attn.value.bias\n",
      "transformer.encoder.layer.0.attn.out.bias\n",
      "transformer.encoder.layer.1.ffn.fc1.bias\n",
      "transformer.encoder.layer.1.ffn.fc2.bias\n",
      "transformer.encoder.layer.1.attn.query.bias\n",
      "transformer.encoder.layer.1.attn.key.bias\n",
      "transformer.encoder.layer.1.attn.value.bias\n",
      "transformer.encoder.layer.1.attn.out.bias\n",
      "transformer.encoder.layer.2.ffn.fc1.bias\n",
      "transformer.encoder.layer.2.ffn.fc2.bias\n",
      "transformer.encoder.layer.2.attn.query.bias\n",
      "transformer.encoder.layer.2.attn.key.bias\n",
      "transformer.encoder.layer.2.attn.value.bias\n",
      "transformer.encoder.layer.2.attn.out.bias\n",
      "transformer.encoder.layer.3.ffn.fc1.bias\n",
      "transformer.encoder.layer.3.ffn.fc2.bias\n",
      "transformer.encoder.layer.3.attn.query.bias\n",
      "transformer.encoder.layer.3.attn.key.bias\n",
      "transformer.encoder.layer.3.attn.value.bias\n",
      "transformer.encoder.layer.3.attn.out.bias\n",
      "transformer.encoder.layer.4.ffn.fc1.bias\n",
      "transformer.encoder.layer.4.ffn.fc2.bias\n",
      "transformer.encoder.layer.4.attn.query.bias\n",
      "transformer.encoder.layer.4.attn.key.bias\n",
      "transformer.encoder.layer.4.attn.value.bias\n",
      "transformer.encoder.layer.4.attn.out.bias\n",
      "transformer.encoder.layer.5.ffn.fc1.bias\n",
      "transformer.encoder.layer.5.ffn.fc2.bias\n",
      "transformer.encoder.layer.5.attn.query.bias\n",
      "transformer.encoder.layer.5.attn.key.bias\n",
      "transformer.encoder.layer.5.attn.value.bias\n",
      "transformer.encoder.layer.5.attn.out.bias\n",
      "transformer.encoder.layer.6.ffn.fc1.bias\n",
      "transformer.encoder.layer.6.ffn.fc2.bias\n",
      "transformer.encoder.layer.6.attn.query.bias\n",
      "transformer.encoder.layer.6.attn.key.bias\n",
      "transformer.encoder.layer.6.attn.value.bias\n",
      "transformer.encoder.layer.6.attn.out.bias\n",
      "transformer.encoder.layer.7.ffn.fc1.bias\n",
      "transformer.encoder.layer.7.ffn.fc2.bias\n",
      "transformer.encoder.layer.7.attn.query.bias\n",
      "transformer.encoder.layer.7.attn.key.bias\n",
      "transformer.encoder.layer.7.attn.value.bias\n",
      "transformer.encoder.layer.7.attn.out.bias\n",
      "transformer.encoder.layer.8.ffn.fc1.bias\n",
      "transformer.encoder.layer.8.ffn.fc2.bias\n",
      "transformer.encoder.layer.8.attn.query.bias\n",
      "transformer.encoder.layer.8.attn.key.bias\n",
      "transformer.encoder.layer.8.attn.value.bias\n",
      "transformer.encoder.layer.8.attn.out.bias\n",
      "transformer.encoder.layer.9.ffn.fc1.bias\n",
      "transformer.encoder.layer.9.ffn.fc2.bias\n",
      "transformer.encoder.layer.9.attn.query.bias\n",
      "transformer.encoder.layer.9.attn.key.bias\n",
      "transformer.encoder.layer.9.attn.value.bias\n",
      "transformer.encoder.layer.9.attn.out.bias\n",
      "transformer.encoder.layer.10.ffn.fc1.bias\n",
      "transformer.encoder.layer.10.ffn.fc2.bias\n",
      "transformer.encoder.layer.10.attn.query.bias\n",
      "transformer.encoder.layer.10.attn.key.bias\n",
      "transformer.encoder.layer.10.attn.value.bias\n",
      "transformer.encoder.layer.10.attn.out.bias\n",
      "transformer.encoder.layer.11.ffn.fc1.bias\n",
      "transformer.encoder.layer.11.ffn.fc2.bias\n",
      "transformer.encoder.layer.11.attn.query.bias\n"
     ]
    },
    {
     "name": "stderr",
     "output_type": "stream",
     "text": [
      "2023-10-26 15:33:56,596 - train - INFO - ***** Running Validation *****\n",
      "2023-10-26 15:33:56,597 - train - INFO -   Num steps = 155\n",
      "2023-10-26 15:33:56,597 - train - INFO -   Batch size = 16\n"
     ]
    },
    {
     "name": "stdout",
     "output_type": "stream",
     "text": [
      "transformer.encoder.layer.11.attn.key.bias\n",
      "transformer.encoder.layer.11.attn.value.bias\n",
      "transformer.encoder.layer.11.attn.out.bias\n"
     ]
    },
    {
     "name": "stderr",
     "output_type": "stream",
     "text": [
      "Validating... (loss=0.03964): 100%|| 155/155 [00:08<00:00, 18.02it/s]\n",
      "2023-10-26 15:34:05,204 - train - INFO - \n",
      "\n",
      "2023-10-26 15:34:05,205 - train - INFO - Validation Results\n",
      "2023-10-26 15:34:05,206 - train - INFO - Global Steps: 0\n",
      "2023-10-26 15:34:05,207 - train - INFO - Valid Loss: 0.06035\n",
      "2023-10-26 15:34:05,207 - train - INFO - Valid Accuracy: 0.98386\n"
     ]
    },
    {
     "name": "stdout",
     "output_type": "stream",
     "text": [
      "bw = 4\n",
      "transformer.encoder.layer.0.ffn.fc1.bias\n",
      "transformer.encoder.layer.0.ffn.fc2.bias\n",
      "transformer.encoder.layer.0.attn.query.bias\n",
      "transformer.encoder.layer.0.attn.key.bias\n",
      "transformer.encoder.layer.0.attn.value.bias\n",
      "transformer.encoder.layer.0.attn.out.bias\n",
      "transformer.encoder.layer.1.ffn.fc1.bias\n",
      "transformer.encoder.layer.1.ffn.fc2.bias\n",
      "transformer.encoder.layer.1.attn.query.bias\n",
      "transformer.encoder.layer.1.attn.key.bias\n",
      "transformer.encoder.layer.1.attn.value.bias\n",
      "transformer.encoder.layer.1.attn.out.bias\n",
      "transformer.encoder.layer.2.ffn.fc1.bias\n",
      "transformer.encoder.layer.2.ffn.fc2.bias\n",
      "transformer.encoder.layer.2.attn.query.bias\n",
      "transformer.encoder.layer.2.attn.key.bias\n",
      "transformer.encoder.layer.2.attn.value.bias\n",
      "transformer.encoder.layer.2.attn.out.bias\n",
      "transformer.encoder.layer.3.ffn.fc1.bias\n",
      "transformer.encoder.layer.3.ffn.fc2.bias\n",
      "transformer.encoder.layer.3.attn.query.bias\n",
      "transformer.encoder.layer.3.attn.key.bias\n",
      "transformer.encoder.layer.3.attn.value.bias\n",
      "transformer.encoder.layer.3.attn.out.bias\n",
      "transformer.encoder.layer.4.ffn.fc1.bias\n",
      "transformer.encoder.layer.4.ffn.fc2.bias\n",
      "transformer.encoder.layer.4.attn.query.bias\n",
      "transformer.encoder.layer.4.attn.key.bias\n",
      "transformer.encoder.layer.4.attn.value.bias\n",
      "transformer.encoder.layer.4.attn.out.bias\n",
      "transformer.encoder.layer.5.ffn.fc1.bias\n",
      "transformer.encoder.layer.5.ffn.fc2.bias\n",
      "transformer.encoder.layer.5.attn.query.bias\n",
      "transformer.encoder.layer.5.attn.key.bias\n",
      "transformer.encoder.layer.5.attn.value.bias\n",
      "transformer.encoder.layer.5.attn.out.bias\n",
      "transformer.encoder.layer.6.ffn.fc1.bias\n",
      "transformer.encoder.layer.6.ffn.fc2.bias\n",
      "transformer.encoder.layer.6.attn.query.bias\n",
      "transformer.encoder.layer.6.attn.key.bias\n",
      "transformer.encoder.layer.6.attn.value.bias\n",
      "transformer.encoder.layer.6.attn.out.bias\n",
      "transformer.encoder.layer.7.ffn.fc1.bias\n",
      "transformer.encoder.layer.7.ffn.fc2.bias\n",
      "transformer.encoder.layer.7.attn.query.bias\n",
      "transformer.encoder.layer.7.attn.key.bias\n",
      "transformer.encoder.layer.7.attn.value.bias\n",
      "transformer.encoder.layer.7.attn.out.bias\n",
      "transformer.encoder.layer.8.ffn.fc1.bias\n",
      "transformer.encoder.layer.8.ffn.fc2.bias\n",
      "transformer.encoder.layer.8.attn.query.bias\n",
      "transformer.encoder.layer.8.attn.key.bias\n",
      "transformer.encoder.layer.8.attn.value.bias\n",
      "transformer.encoder.layer.8.attn.out.bias\n",
      "transformer.encoder.layer.9.ffn.fc1.bias\n",
      "transformer.encoder.layer.9.ffn.fc2.bias\n",
      "transformer.encoder.layer.9.attn.query.bias\n",
      "transformer.encoder.layer.9.attn.key.bias\n",
      "transformer.encoder.layer.9.attn.value.bias\n",
      "transformer.encoder.layer.9.attn.out.bias\n",
      "transformer.encoder.layer.10.ffn.fc1.bias\n",
      "transformer.encoder.layer.10.ffn.fc2.bias\n",
      "transformer.encoder.layer.10.attn.query.bias\n",
      "transformer.encoder.layer.10.attn.key.bias\n",
      "transformer.encoder.layer.10.attn.value.bias\n",
      "transformer.encoder.layer.10.attn.out.bias\n",
      "transformer.encoder.layer.11.ffn.fc1.bias\n",
      "transformer.encoder.layer.11.ffn.fc2.bias\n",
      "transformer.encoder.layer.11.attn.query.bias\n",
      "transformer.encoder.layer.11.attn.key.bias\n",
      "transformer.encoder.layer.11.attn.value.bias\n"
     ]
    },
    {
     "name": "stderr",
     "output_type": "stream",
     "text": [
      "2023-10-26 15:34:48,037 - train - INFO - ***** Running Validation *****\n",
      "2023-10-26 15:34:48,038 - train - INFO -   Num steps = 155\n",
      "2023-10-26 15:34:48,038 - train - INFO -   Batch size = 16\n"
     ]
    },
    {
     "name": "stdout",
     "output_type": "stream",
     "text": [
      "transformer.encoder.layer.11.attn.out.bias\n"
     ]
    },
    {
     "name": "stderr",
     "output_type": "stream",
     "text": [
      "Validating... (loss=0.01968): 100%|| 155/155 [00:08<00:00, 18.36it/s]\n",
      "2023-10-26 15:34:56,487 - train - INFO - \n",
      "\n",
      "2023-10-26 15:34:56,488 - train - INFO - Validation Results\n",
      "2023-10-26 15:34:56,488 - train - INFO - Global Steps: 0\n",
      "2023-10-26 15:34:56,489 - train - INFO - Valid Loss: 0.01996\n",
      "2023-10-26 15:34:56,489 - train - INFO - Valid Accuracy: 0.99314\n"
     ]
    },
    {
     "name": "stdout",
     "output_type": "stream",
     "text": [
      "bw = 8\n",
      "transformer.encoder.layer.0.ffn.fc1.bias\n",
      "transformer.encoder.layer.0.ffn.fc2.bias\n",
      "transformer.encoder.layer.0.attn.query.bias\n",
      "transformer.encoder.layer.0.attn.key.bias\n",
      "transformer.encoder.layer.0.attn.value.bias\n",
      "transformer.encoder.layer.0.attn.out.bias\n",
      "transformer.encoder.layer.1.ffn.fc1.bias\n",
      "transformer.encoder.layer.1.ffn.fc2.bias\n",
      "transformer.encoder.layer.1.attn.query.bias\n",
      "transformer.encoder.layer.1.attn.key.bias\n",
      "transformer.encoder.layer.1.attn.value.bias\n",
      "transformer.encoder.layer.1.attn.out.bias\n",
      "transformer.encoder.layer.2.ffn.fc1.bias\n",
      "transformer.encoder.layer.2.ffn.fc2.bias\n",
      "transformer.encoder.layer.2.attn.query.bias\n",
      "transformer.encoder.layer.2.attn.key.bias\n",
      "transformer.encoder.layer.2.attn.value.bias\n",
      "transformer.encoder.layer.2.attn.out.bias\n",
      "transformer.encoder.layer.3.ffn.fc1.bias\n",
      "transformer.encoder.layer.3.ffn.fc2.bias\n",
      "transformer.encoder.layer.3.attn.query.bias\n",
      "transformer.encoder.layer.3.attn.key.bias\n",
      "transformer.encoder.layer.3.attn.value.bias\n",
      "transformer.encoder.layer.3.attn.out.bias\n",
      "transformer.encoder.layer.4.ffn.fc1.bias\n",
      "transformer.encoder.layer.4.ffn.fc2.bias\n",
      "transformer.encoder.layer.4.attn.query.bias\n",
      "transformer.encoder.layer.4.attn.key.bias\n",
      "transformer.encoder.layer.4.attn.value.bias\n",
      "transformer.encoder.layer.4.attn.out.bias\n",
      "transformer.encoder.layer.5.ffn.fc1.bias\n",
      "transformer.encoder.layer.5.ffn.fc2.bias\n",
      "transformer.encoder.layer.5.attn.query.bias\n",
      "transformer.encoder.layer.5.attn.key.bias\n",
      "transformer.encoder.layer.5.attn.value.bias\n",
      "transformer.encoder.layer.5.attn.out.bias\n",
      "transformer.encoder.layer.6.ffn.fc1.bias\n",
      "transformer.encoder.layer.6.ffn.fc2.bias\n",
      "transformer.encoder.layer.6.attn.query.bias\n",
      "transformer.encoder.layer.6.attn.key.bias\n",
      "transformer.encoder.layer.6.attn.value.bias\n",
      "transformer.encoder.layer.6.attn.out.bias\n",
      "transformer.encoder.layer.7.ffn.fc1.bias\n",
      "transformer.encoder.layer.7.ffn.fc2.bias\n",
      "transformer.encoder.layer.7.attn.query.bias\n",
      "transformer.encoder.layer.7.attn.key.bias\n",
      "transformer.encoder.layer.7.attn.value.bias\n",
      "transformer.encoder.layer.7.attn.out.bias\n",
      "transformer.encoder.layer.8.ffn.fc1.bias\n",
      "transformer.encoder.layer.8.ffn.fc2.bias\n",
      "transformer.encoder.layer.8.attn.query.bias\n",
      "transformer.encoder.layer.8.attn.key.bias\n",
      "transformer.encoder.layer.8.attn.value.bias\n",
      "transformer.encoder.layer.8.attn.out.bias\n",
      "transformer.encoder.layer.9.ffn.fc1.bias\n",
      "transformer.encoder.layer.9.ffn.fc2.bias\n",
      "transformer.encoder.layer.9.attn.query.bias\n",
      "transformer.encoder.layer.9.attn.key.bias\n",
      "transformer.encoder.layer.9.attn.value.bias\n",
      "transformer.encoder.layer.9.attn.out.bias\n",
      "transformer.encoder.layer.10.ffn.fc1.bias\n",
      "transformer.encoder.layer.10.ffn.fc2.bias\n",
      "transformer.encoder.layer.10.attn.query.bias\n",
      "transformer.encoder.layer.10.attn.key.bias\n",
      "transformer.encoder.layer.10.attn.value.bias\n",
      "transformer.encoder.layer.10.attn.out.bias\n",
      "transformer.encoder.layer.11.ffn.fc1.bias\n",
      "transformer.encoder.layer.11.ffn.fc2.bias\n",
      "transformer.encoder.layer.11.attn.query.bias\n",
      "transformer.encoder.layer.11.attn.key.bias\n"
     ]
    },
    {
     "name": "stderr",
     "output_type": "stream",
     "text": [
      "2023-10-26 15:35:41,878 - train - INFO - ***** Running Validation *****\n",
      "2023-10-26 15:35:41,879 - train - INFO -   Num steps = 155\n",
      "2023-10-26 15:35:41,879 - train - INFO -   Batch size = 16\n"
     ]
    },
    {
     "name": "stdout",
     "output_type": "stream",
     "text": [
      "transformer.encoder.layer.11.attn.value.bias\n",
      "transformer.encoder.layer.11.attn.out.bias\n"
     ]
    },
    {
     "name": "stderr",
     "output_type": "stream",
     "text": [
      "Validating... (loss=0.00271): 100%|| 155/155 [00:08<00:00, 17.95it/s]\n",
      "2023-10-26 15:35:50,520 - train - INFO - \n",
      "\n",
      "2023-10-26 15:35:50,521 - train - INFO - Validation Results\n",
      "2023-10-26 15:35:50,521 - train - INFO - Global Steps: 0\n",
      "2023-10-26 15:35:50,521 - train - INFO - Valid Loss: 0.01121\n",
      "2023-10-26 15:35:50,521 - train - INFO - Valid Accuracy: 0.99758\n"
     ]
    },
    {
     "name": "stdout",
     "output_type": "stream",
     "text": [
      "redundancy = 2\n",
      "bw = 2\n",
      "transformer.encoder.layer.0.ffn.fc1.bias\n",
      "transformer.encoder.layer.0.ffn.fc2.bias\n",
      "transformer.encoder.layer.0.attn.query.bias\n",
      "transformer.encoder.layer.0.attn.key.bias\n",
      "transformer.encoder.layer.0.attn.value.bias\n",
      "transformer.encoder.layer.0.attn.out.bias\n",
      "transformer.encoder.layer.1.ffn.fc1.bias\n",
      "transformer.encoder.layer.1.ffn.fc2.bias\n",
      "transformer.encoder.layer.1.attn.query.bias\n",
      "transformer.encoder.layer.1.attn.key.bias\n",
      "transformer.encoder.layer.1.attn.value.bias\n",
      "transformer.encoder.layer.1.attn.out.bias\n",
      "transformer.encoder.layer.2.ffn.fc1.bias\n",
      "transformer.encoder.layer.2.ffn.fc2.bias\n",
      "transformer.encoder.layer.2.attn.query.bias\n",
      "transformer.encoder.layer.2.attn.key.bias\n",
      "transformer.encoder.layer.2.attn.value.bias\n",
      "transformer.encoder.layer.2.attn.out.bias\n",
      "transformer.encoder.layer.3.ffn.fc1.bias\n",
      "transformer.encoder.layer.3.ffn.fc2.bias\n",
      "transformer.encoder.layer.3.attn.query.bias\n",
      "transformer.encoder.layer.3.attn.key.bias\n",
      "transformer.encoder.layer.3.attn.value.bias\n",
      "transformer.encoder.layer.3.attn.out.bias\n",
      "transformer.encoder.layer.4.ffn.fc1.bias\n",
      "transformer.encoder.layer.4.ffn.fc2.bias\n",
      "transformer.encoder.layer.4.attn.query.bias\n",
      "transformer.encoder.layer.4.attn.key.bias\n",
      "transformer.encoder.layer.4.attn.value.bias\n",
      "transformer.encoder.layer.4.attn.out.bias\n",
      "transformer.encoder.layer.5.ffn.fc1.bias\n",
      "transformer.encoder.layer.5.ffn.fc2.bias\n",
      "transformer.encoder.layer.5.attn.query.bias\n",
      "transformer.encoder.layer.5.attn.key.bias\n",
      "transformer.encoder.layer.5.attn.value.bias\n",
      "transformer.encoder.layer.5.attn.out.bias\n",
      "transformer.encoder.layer.6.ffn.fc1.bias\n",
      "transformer.encoder.layer.6.ffn.fc2.bias\n",
      "transformer.encoder.layer.6.attn.query.bias\n",
      "transformer.encoder.layer.6.attn.key.bias\n",
      "transformer.encoder.layer.6.attn.value.bias\n",
      "transformer.encoder.layer.6.attn.out.bias\n",
      "transformer.encoder.layer.7.ffn.fc1.bias\n",
      "transformer.encoder.layer.7.ffn.fc2.bias\n",
      "transformer.encoder.layer.7.attn.query.bias\n",
      "transformer.encoder.layer.7.attn.key.bias\n",
      "transformer.encoder.layer.7.attn.value.bias\n",
      "transformer.encoder.layer.7.attn.out.bias\n",
      "transformer.encoder.layer.8.ffn.fc1.bias\n",
      "transformer.encoder.layer.8.ffn.fc2.bias\n",
      "transformer.encoder.layer.8.attn.query.bias\n",
      "transformer.encoder.layer.8.attn.key.bias\n",
      "transformer.encoder.layer.8.attn.value.bias\n",
      "transformer.encoder.layer.8.attn.out.bias\n",
      "transformer.encoder.layer.9.ffn.fc1.bias\n",
      "transformer.encoder.layer.9.ffn.fc2.bias\n",
      "transformer.encoder.layer.9.attn.query.bias\n",
      "transformer.encoder.layer.9.attn.key.bias\n",
      "transformer.encoder.layer.9.attn.value.bias\n",
      "transformer.encoder.layer.9.attn.out.bias\n",
      "transformer.encoder.layer.10.ffn.fc1.bias\n",
      "transformer.encoder.layer.10.ffn.fc2.bias\n",
      "transformer.encoder.layer.10.attn.query.bias\n",
      "transformer.encoder.layer.10.attn.key.bias\n",
      "transformer.encoder.layer.10.attn.value.bias\n",
      "transformer.encoder.layer.10.attn.out.bias\n",
      "transformer.encoder.layer.11.ffn.fc1.bias\n",
      "transformer.encoder.layer.11.ffn.fc2.bias\n",
      "transformer.encoder.layer.11.attn.query.bias\n",
      "transformer.encoder.layer.11.attn.key.bias\n",
      "transformer.encoder.layer.11.attn.value.bias\n"
     ]
    },
    {
     "name": "stderr",
     "output_type": "stream",
     "text": [
      "2023-10-26 15:36:22,433 - train - INFO - ***** Running Validation *****\n",
      "2023-10-26 15:36:22,434 - train - INFO -   Num steps = 155\n",
      "2023-10-26 15:36:22,434 - train - INFO -   Batch size = 16\n"
     ]
    },
    {
     "name": "stdout",
     "output_type": "stream",
     "text": [
      "transformer.encoder.layer.11.attn.out.bias\n"
     ]
    },
    {
     "name": "stderr",
     "output_type": "stream",
     "text": [
      "Validating... (loss=2.77009): 100%|| 155/155 [00:08<00:00, 18.20it/s]\n",
      "2023-10-26 15:36:30,954 - train - INFO - \n",
      "\n",
      "2023-10-26 15:36:30,955 - train - INFO - Validation Results\n",
      "2023-10-26 15:36:30,955 - train - INFO - Global Steps: 0\n",
      "2023-10-26 15:36:30,955 - train - INFO - Valid Loss: 2.95108\n",
      "2023-10-26 15:36:30,956 - train - INFO - Valid Accuracy: 0.09318\n"
     ]
    },
    {
     "name": "stdout",
     "output_type": "stream",
     "text": [
      "bw = 3\n",
      "transformer.encoder.layer.0.ffn.fc1.bias\n",
      "transformer.encoder.layer.0.ffn.fc2.bias\n",
      "transformer.encoder.layer.0.attn.query.bias\n",
      "transformer.encoder.layer.0.attn.key.bias\n",
      "transformer.encoder.layer.0.attn.value.bias\n",
      "transformer.encoder.layer.0.attn.out.bias\n",
      "transformer.encoder.layer.1.ffn.fc1.bias\n",
      "transformer.encoder.layer.1.ffn.fc2.bias\n",
      "transformer.encoder.layer.1.attn.query.bias\n",
      "transformer.encoder.layer.1.attn.key.bias\n",
      "transformer.encoder.layer.1.attn.value.bias\n",
      "transformer.encoder.layer.1.attn.out.bias\n",
      "transformer.encoder.layer.2.ffn.fc1.bias\n",
      "transformer.encoder.layer.2.ffn.fc2.bias\n",
      "transformer.encoder.layer.2.attn.query.bias\n",
      "transformer.encoder.layer.2.attn.key.bias\n",
      "transformer.encoder.layer.2.attn.value.bias\n",
      "transformer.encoder.layer.2.attn.out.bias\n",
      "transformer.encoder.layer.3.ffn.fc1.bias\n",
      "transformer.encoder.layer.3.ffn.fc2.bias\n",
      "transformer.encoder.layer.3.attn.query.bias\n",
      "transformer.encoder.layer.3.attn.key.bias\n",
      "transformer.encoder.layer.3.attn.value.bias\n",
      "transformer.encoder.layer.3.attn.out.bias\n"
     ]
    },
    {
     "ename": "KeyboardInterrupt",
     "evalue": "",
     "output_type": "error",
     "traceback": [
      "\u001b[0;31m---------------------------------------------------------------------------\u001b[0m",
      "\u001b[0;31mKeyboardInterrupt\u001b[0m                         Traceback (most recent call last)",
      "\u001b[1;32m/data/harsha/ViT-pytorch/naive_quantization.ipynb Cell 10\u001b[0m line \u001b[0;36m5\n\u001b[1;32m     <a href='vscode-notebook-cell://ssh-remote%2Bolvi2/data/harsha/ViT-pytorch/naive_quantization.ipynb#X11sdnNjb2RlLXJlbW90ZQ%3D%3D?line=50'>51</a>\u001b[0m Rxz \u001b[39m=\u001b[39m wmat \u001b[39m@\u001b[39m z\u001b[39m.\u001b[39mT\n\u001b[1;32m     <a href='vscode-notebook-cell://ssh-remote%2Bolvi2/data/harsha/ViT-pytorch/naive_quantization.ipynb#X11sdnNjb2RlLXJlbW90ZQ%3D%3D?line=51'>52</a>\u001b[0m Rzz \u001b[39m=\u001b[39m z \u001b[39m@\u001b[39m z\u001b[39m.\u001b[39mT\n\u001b[0;32m---> <a href='vscode-notebook-cell://ssh-remote%2Bolvi2/data/harsha/ViT-pytorch/naive_quantization.ipynb#X11sdnNjb2RlLXJlbW90ZQ%3D%3D?line=52'>53</a>\u001b[0m wmat_est \u001b[39m=\u001b[39m Rxz \u001b[39m@\u001b[39m torch\u001b[39m.\u001b[39;49mlinalg\u001b[39m.\u001b[39;49mpinv(Rzz) \u001b[39m@\u001b[39m z\n\u001b[1;32m     <a href='vscode-notebook-cell://ssh-remote%2Bolvi2/data/harsha/ViT-pytorch/naive_quantization.ipynb#X11sdnNjb2RlLXJlbW90ZQ%3D%3D?line=53'>54</a>\u001b[0m param\u001b[39m.\u001b[39mdata \u001b[39m=\u001b[39m wmat_est\u001b[39m.\u001b[39msqueeze()\n\u001b[1;32m     <a href='vscode-notebook-cell://ssh-remote%2Bolvi2/data/harsha/ViT-pytorch/naive_quantization.ipynb#X11sdnNjb2RlLXJlbW90ZQ%3D%3D?line=54'>55</a>\u001b[0m \u001b[39m# param.data = (tffs.view(-1,n_attn).T @ projs_qntzd.view(k_attn*l_attn, -1)).squeeze()\u001b[39;00m\n",
      "\u001b[0;31mKeyboardInterrupt\u001b[0m: "
     ]
    }
   ],
   "source": [
    "# This is with the Weiner Filter based estimation\n",
    "# redundancies = [1,2,3,4,5]\n",
    "# bws = [2,3,4,8,16,32]\n",
    "redundancies = [1,2,3,4,5]\n",
    "bws = [2,3,4,8]\n",
    "\n",
    "val_accs = {}\n",
    "compressions = {}\n",
    "for redundancy in redundancies:\n",
    "    print(f'{redundancy = }')\n",
    "    # set tff related params\n",
    "    tffs = {}\n",
    "    k_attn = int(96 * redundancy)\n",
    "    l_attn = 8\n",
    "    n_attn = 768\n",
    "    tffs[n_attn] = construct_real_tff(k_attn, l_attn // 2, n_attn // 2).to(args.device)\n",
    "\n",
    "    k_mlp = int(384 * redundancy)\n",
    "    l_mlp = 8\n",
    "    n_mlp = 3072\n",
    "    tffs[n_mlp] = construct_real_tff(k_mlp, l_mlp // 2, n_mlp // 2).to(args.device)\n",
    "\n",
    "    val_accs_r = []\n",
    "    compressions_r = []\n",
    "    for bw in bws:\n",
    "        print(f'{bw = }')\n",
    "        model = VisionTransformer(config, args.img_size, zero_head=False, num_classes=num_classes)\n",
    "        model.load_state_dict(torch.load(ckpt_path))\n",
    "        model.eval()\n",
    "        model.to(args.device)\n",
    "\n",
    "        # set bit width related params\n",
    "        maxq = torch.tensor(2**bw - 1)\n",
    "        for name, param in model.named_parameters():\n",
    "            if 'attn' in name or 'ffn.' in name:\n",
    "                wmat = param.data\n",
    "                if 'bias' in name:\n",
    "                    print(name)\n",
    "                    wmat = wmat.view(-1,1)\n",
    "                tff_n = wmat.shape[0]\n",
    "                projs = torch.matmul(tffs[tff_n], wmat)\n",
    "                num_frames = projs.shape[0]*projs.shape[1]\n",
    "                # quantize the projs\n",
    "                xmax = projs.max()\n",
    "                xmin = projs.min()\n",
    "                scale = (xmax - xmin) / maxq\n",
    "                zero = torch.round(-xmin / scale)\n",
    "                projs_qntzd = quantize_qfna(projs, scale, zero, maxq) \n",
    "                # compute the weiner filter\n",
    "                z = projs_qntzd.view(num_frames, -1)\n",
    "                Rxz = wmat @ z.T\n",
    "                Rzz = z @ z.T\n",
    "                wmat_est = Rxz @ torch.linalg.pinv(Rzz) @ z\n",
    "                param.data = wmat_est.squeeze()\n",
    "                # param.data = (tffs.view(-1,n_attn).T @ projs_qntzd.view(k_attn*l_attn, -1)).squeeze()\n",
    "\n",
    "        val_acc = valid(args, model, writer=None, test_loader=test_loader, global_step=0)\n",
    "        val_accs_r.append(val_acc)\n",
    "\n",
    "        compression = 32/(redundancy*bw)\n",
    "        compressions_r.append(compression)\n",
    "    val_accs[redundancy] = val_accs_r\n",
    "    compressions[redundancy] = compressions_r"
   ]
  },
  {
   "cell_type": "code",
   "execution_count": 50,
   "metadata": {},
   "outputs": [
    {
     "data": {
      "text/plain": [
       "'transformer.encoder.layer.0.ffn_norm.weight'"
      ]
     },
     "execution_count": 50,
     "metadata": {},
     "output_type": "execute_result"
    }
   ],
   "source": [
    "name"
   ]
  },
  {
   "cell_type": "code",
   "execution_count": 41,
   "metadata": {},
   "outputs": [],
   "source": [
    "# save the results\n",
    "import os\n",
    "import datetime\n",
    "\n",
    "current_datetime = datetime.datetime.now().strftime(\"%Y-%m-%d_%H-%M-%S\")\n",
    "directory_path = os.path.join(\"output\", f'vit_quant_weiner_full_{current_datetime}')\n",
    "os.makedirs(directory_path, exist_ok=True)\n",
    "\n",
    "weiner_full_results = {'redundancies':redundancies, 'bws': bws, 'val_accs':val_accs, 'compressions':compressions}\n",
    "torch.save(weiner_full_results, os.path.join(directory_path, 'naive_weiner_quant_full.pt'))"
   ]
  },
  {
   "cell_type": "code",
   "execution_count": 45,
   "metadata": {},
   "outputs": [
    {
     "data": {
      "image/png": "[encoded data removed]",
      "text/plain": [
       "<Figure size 640x480 with 1 Axes>"
      ]
     },
     "metadata": {},
     "output_type": "display_data"
    },
    {
     "data": {
      "image/png": "[encoded data removed]",
      "text/plain": [
       "<Figure size 640x480 with 1 Axes>"
      ]
     },
     "metadata": {},
     "output_type": "display_data"
    },
    {
     "data": {
      "image/png": "[encoded data removed]",
      "text/plain": [
       "<Figure size 640x480 with 1 Axes>"
      ]
     },
     "metadata": {},
     "output_type": "display_data"
    }
   ],
   "source": [
    "for redundancy in redundancies:\n",
    "    plt.plot(bws[:3], val_accs[redundancy][:3])\n",
    "plt.legend(redundancies)\n",
    "plt.show()\n",
    "\n",
    "for redundancy in redundancies:\n",
    "    plt.plot(bws[:3], compressions[redundancy][:3])\n",
    "plt.legend(redundancies)\n",
    "plt.show()\n",
    "\n",
    "i_s = [1,2]\n",
    "for i in i_s:\n",
    "    val_acc_bw_i = [val_accs[r][i] for r in redundancies]\n",
    "    plt.scatter(redundancies, val_acc_bw_i)\n",
    "plt.legend(i_s)\n",
    "plt.show() "
   ]
  },
  {
   "cell_type": "code",
   "execution_count": 46,
   "metadata": {},
   "outputs": [
    {
     "name": "stdout",
     "output_type": "stream",
     "text": [
      "redundancy = 1\n",
      "bw = 2\n"
     ]
    },
    {
     "name": "stderr",
     "output_type": "stream",
     "text": [
      "2023-10-26 14:35:32,603 - train - INFO - ***** Running Validation *****\n",
      "2023-10-26 14:35:32,604 - train - INFO -   Num steps = 155\n",
      "2023-10-26 14:35:32,604 - train - INFO -   Batch size = 16\n",
      "Validating... (loss=2.80377): 100%|| 155/155 [00:08<00:00, 19.30it/s]\n",
      "2023-10-26 14:35:40,638 - train - INFO - \n",
      "\n",
      "2023-10-26 14:35:40,639 - train - INFO - Validation Results\n",
      "2023-10-26 14:35:40,639 - train - INFO - Global Steps: 0\n",
      "2023-10-26 14:35:40,640 - train - INFO - Valid Loss: 2.87577\n",
      "2023-10-26 14:35:40,640 - train - INFO - Valid Accuracy: 0.11698\n"
     ]
    },
    {
     "name": "stdout",
     "output_type": "stream",
     "text": [
      "bw = 3\n"
     ]
    },
    {
     "name": "stderr",
     "output_type": "stream",
     "text": [
      "2023-10-26 14:35:45,262 - train - INFO - ***** Running Validation *****\n",
      "2023-10-26 14:35:45,263 - train - INFO -   Num steps = 155\n",
      "2023-10-26 14:35:45,264 - train - INFO -   Batch size = 16\n",
      "Validating... (loss=0.02851): 100%|| 155/155 [00:08<00:00, 19.15it/s]\n",
      "2023-10-26 14:35:53,360 - train - INFO - \n",
      "\n",
      "2023-10-26 14:35:53,361 - train - INFO - Validation Results\n",
      "2023-10-26 14:35:53,361 - train - INFO - Global Steps: 0\n",
      "2023-10-26 14:35:53,361 - train - INFO - Valid Loss: 0.07493\n",
      "2023-10-26 14:35:53,362 - train - INFO - Valid Accuracy: 0.97701\n"
     ]
    },
    {
     "name": "stdout",
     "output_type": "stream",
     "text": [
      "bw = 4\n"
     ]
    },
    {
     "name": "stderr",
     "output_type": "stream",
     "text": [
      "2023-10-26 14:35:58,192 - train - INFO - ***** Running Validation *****\n",
      "2023-10-26 14:35:58,194 - train - INFO -   Num steps = 155\n",
      "2023-10-26 14:35:58,194 - train - INFO -   Batch size = 16\n",
      "Validating... (loss=0.00162): 100%|| 155/155 [00:08<00:00, 19.26it/s]\n",
      "2023-10-26 14:36:06,247 - train - INFO - \n",
      "\n",
      "2023-10-26 14:36:06,248 - train - INFO - Validation Results\n",
      "2023-10-26 14:36:06,248 - train - INFO - Global Steps: 0\n",
      "2023-10-26 14:36:06,249 - train - INFO - Valid Loss: 0.01524\n",
      "2023-10-26 14:36:06,249 - train - INFO - Valid Accuracy: 0.99516\n"
     ]
    },
    {
     "name": "stdout",
     "output_type": "stream",
     "text": [
      "bw = 8\n"
     ]
    },
    {
     "name": "stderr",
     "output_type": "stream",
     "text": [
      "2023-10-26 14:36:11,740 - train - INFO - ***** Running Validation *****\n",
      "2023-10-26 14:36:11,741 - train - INFO -   Num steps = 155\n",
      "2023-10-26 14:36:11,742 - train - INFO -   Batch size = 16\n",
      "Validating... (loss=0.00288): 100%|| 155/155 [00:08<00:00, 19.15it/s]\n",
      "2023-10-26 14:36:19,839 - train - INFO - \n",
      "\n",
      "2023-10-26 14:36:19,839 - train - INFO - Validation Results\n",
      "2023-10-26 14:36:19,840 - train - INFO - Global Steps: 0\n",
      "2023-10-26 14:36:19,840 - train - INFO - Valid Loss: 0.01158\n",
      "2023-10-26 14:36:19,841 - train - INFO - Valid Accuracy: 0.99758\n"
     ]
    },
    {
     "name": "stdout",
     "output_type": "stream",
     "text": [
      "redundancy = 2\n",
      "bw = 2\n"
     ]
    },
    {
     "name": "stderr",
     "output_type": "stream",
     "text": [
      "2023-10-26 14:36:45,477 - train - INFO - ***** Running Validation *****\n",
      "2023-10-26 14:36:45,479 - train - INFO -   Num steps = 155\n",
      "2023-10-26 14:36:45,480 - train - INFO -   Batch size = 16\n",
      "Validating... (loss=2.29553): 100%|| 155/155 [00:08<00:00, 19.23it/s]\n",
      "2023-10-26 14:36:53,545 - train - INFO - \n",
      "\n",
      "2023-10-26 14:36:53,545 - train - INFO - Validation Results\n",
      "2023-10-26 14:36:53,546 - train - INFO - Global Steps: 0\n",
      "2023-10-26 14:36:53,546 - train - INFO - Valid Loss: 2.72814\n",
      "2023-10-26 14:36:53,547 - train - INFO - Valid Accuracy: 0.12666\n"
     ]
    },
    {
     "name": "stdout",
     "output_type": "stream",
     "text": [
      "bw = 3\n"
     ]
    },
    {
     "name": "stderr",
     "output_type": "stream",
     "text": [
      "2023-10-26 14:37:21,892 - train - INFO - ***** Running Validation *****\n",
      "2023-10-26 14:37:21,892 - train - INFO -   Num steps = 155\n",
      "2023-10-26 14:37:21,893 - train - INFO -   Batch size = 16\n",
      "Validating... (loss=0.01027): 100%|| 155/155 [00:08<00:00, 19.23it/s]\n",
      "2023-10-26 14:37:29,955 - train - INFO - \n",
      "\n",
      "2023-10-26 14:37:29,956 - train - INFO - Validation Results\n",
      "2023-10-26 14:37:29,956 - train - INFO - Global Steps: 0\n",
      "2023-10-26 14:37:29,956 - train - INFO - Valid Loss: 0.02628\n",
      "2023-10-26 14:37:29,957 - train - INFO - Valid Accuracy: 0.99193\n"
     ]
    },
    {
     "name": "stdout",
     "output_type": "stream",
     "text": [
      "bw = 4\n"
     ]
    },
    {
     "name": "stderr",
     "output_type": "stream",
     "text": [
      "2023-10-26 14:37:58,298 - train - INFO - ***** Running Validation *****\n",
      "2023-10-26 14:37:58,300 - train - INFO -   Num steps = 155\n",
      "2023-10-26 14:37:58,300 - train - INFO -   Batch size = 16\n",
      "Validating... (loss=0.00180): 100%|| 155/155 [00:08<00:00, 19.30it/s]\n",
      "2023-10-26 14:38:06,333 - train - INFO - \n",
      "\n",
      "2023-10-26 14:38:06,333 - train - INFO - Validation Results\n",
      "2023-10-26 14:38:06,334 - train - INFO - Global Steps: 0\n",
      "2023-10-26 14:38:06,334 - train - INFO - Valid Loss: 0.01284\n",
      "2023-10-26 14:38:06,334 - train - INFO - Valid Accuracy: 0.99677\n"
     ]
    },
    {
     "name": "stdout",
     "output_type": "stream",
     "text": [
      "bw = 8\n"
     ]
    },
    {
     "name": "stderr",
     "output_type": "stream",
     "text": [
      "2023-10-26 14:38:36,687 - train - INFO - ***** Running Validation *****\n",
      "2023-10-26 14:38:36,689 - train - INFO -   Num steps = 155\n",
      "2023-10-26 14:38:36,689 - train - INFO -   Batch size = 16\n",
      "Validating... (loss=0.00281): 100%|| 155/155 [00:08<00:00, 19.25it/s]\n",
      "2023-10-26 14:38:44,744 - train - INFO - \n",
      "\n",
      "2023-10-26 14:38:44,745 - train - INFO - Validation Results\n",
      "2023-10-26 14:38:44,745 - train - INFO - Global Steps: 0\n",
      "2023-10-26 14:38:44,745 - train - INFO - Valid Loss: 0.01157\n",
      "2023-10-26 14:38:44,746 - train - INFO - Valid Accuracy: 0.99758\n"
     ]
    },
    {
     "name": "stdout",
     "output_type": "stream",
     "text": [
      "redundancy = 3\n",
      "bw = 2\n"
     ]
    },
    {
     "name": "stderr",
     "output_type": "stream",
     "text": [
      "2023-10-26 14:39:59,373 - train - INFO - ***** Running Validation *****\n",
      "2023-10-26 14:39:59,374 - train - INFO -   Num steps = 155\n",
      "2023-10-26 14:39:59,375 - train - INFO -   Batch size = 16\n",
      "Validating... (loss=2.68325): 100%|| 155/155 [00:08<00:00, 19.25it/s]\n",
      "2023-10-26 14:40:07,431 - train - INFO - \n",
      "\n",
      "2023-10-26 14:40:07,432 - train - INFO - Validation Results\n",
      "2023-10-26 14:40:07,432 - train - INFO - Global Steps: 0\n",
      "2023-10-26 14:40:07,433 - train - INFO - Valid Loss: 2.77971\n",
      "2023-10-26 14:40:07,433 - train - INFO - Valid Accuracy: 0.13191\n"
     ]
    },
    {
     "name": "stdout",
     "output_type": "stream",
     "text": [
      "bw = 3\n"
     ]
    },
    {
     "name": "stderr",
     "output_type": "stream",
     "text": [
      "2023-10-26 14:41:25,677 - train - INFO - ***** Running Validation *****\n",
      "2023-10-26 14:41:25,678 - train - INFO -   Num steps = 155\n",
      "2023-10-26 14:41:25,678 - train - INFO -   Batch size = 16\n",
      "Validating... (loss=0.02227): 100%|| 155/155 [00:08<00:00, 19.18it/s]\n",
      "2023-10-26 14:41:33,761 - train - INFO - \n",
      "\n",
      "2023-10-26 14:41:33,762 - train - INFO - Validation Results\n",
      "2023-10-26 14:41:33,762 - train - INFO - Global Steps: 0\n",
      "2023-10-26 14:41:33,763 - train - INFO - Valid Loss: 0.02545\n",
      "2023-10-26 14:41:33,763 - train - INFO - Valid Accuracy: 0.99113\n"
     ]
    },
    {
     "name": "stdout",
     "output_type": "stream",
     "text": [
      "bw = 4\n"
     ]
    },
    {
     "name": "stderr",
     "output_type": "stream",
     "text": [
      "2023-10-26 14:42:54,254 - train - INFO - ***** Running Validation *****\n",
      "2023-10-26 14:42:54,256 - train - INFO -   Num steps = 155\n",
      "2023-10-26 14:42:54,256 - train - INFO -   Batch size = 16\n",
      "Validating... (loss=0.00195): 100%|| 155/155 [00:08<00:00, 19.19it/s]\n",
      "2023-10-26 14:43:02,337 - train - INFO - \n",
      "\n",
      "2023-10-26 14:43:02,338 - train - INFO - Validation Results\n",
      "2023-10-26 14:43:02,338 - train - INFO - Global Steps: 0\n",
      "2023-10-26 14:43:02,339 - train - INFO - Valid Loss: 0.01370\n",
      "2023-10-26 14:43:02,339 - train - INFO - Valid Accuracy: 0.99516\n"
     ]
    },
    {
     "name": "stdout",
     "output_type": "stream",
     "text": [
      "bw = 8\n"
     ]
    },
    {
     "name": "stderr",
     "output_type": "stream",
     "text": [
      "2023-10-26 14:44:26,359 - train - INFO - ***** Running Validation *****\n",
      "2023-10-26 14:44:26,360 - train - INFO -   Num steps = 155\n",
      "2023-10-26 14:44:26,361 - train - INFO -   Batch size = 16\n",
      "Validating... (loss=0.00304): 100%|| 155/155 [00:08<00:00, 19.14it/s]\n",
      "2023-10-26 14:44:34,463 - train - INFO - \n",
      "\n",
      "2023-10-26 14:44:34,464 - train - INFO - Validation Results\n",
      "2023-10-26 14:44:34,464 - train - INFO - Global Steps: 0\n",
      "2023-10-26 14:44:34,464 - train - INFO - Valid Loss: 0.01146\n",
      "2023-10-26 14:44:34,465 - train - INFO - Valid Accuracy: 0.99758\n"
     ]
    },
    {
     "name": "stdout",
     "output_type": "stream",
     "text": [
      "redundancy = 4\n",
      "bw = 2\n"
     ]
    },
    {
     "name": "stderr",
     "output_type": "stream",
     "text": [
      "2023-10-26 14:47:08,362 - train - INFO - ***** Running Validation *****\n",
      "2023-10-26 14:47:08,364 - train - INFO -   Num steps = 155\n",
      "2023-10-26 14:47:08,365 - train - INFO -   Batch size = 16\n",
      "Validating... (loss=2.36278): 100%|| 155/155 [00:08<00:00, 19.19it/s]\n",
      "2023-10-26 14:47:16,448 - train - INFO - \n",
      "\n",
      "2023-10-26 14:47:16,448 - train - INFO - Validation Results\n",
      "2023-10-26 14:47:16,449 - train - INFO - Global Steps: 0\n",
      "2023-10-26 14:47:16,449 - train - INFO - Valid Loss: 2.56963\n",
      "2023-10-26 14:47:16,449 - train - INFO - Valid Accuracy: 0.18314\n"
     ]
    },
    {
     "name": "stdout",
     "output_type": "stream",
     "text": [
      "bw = 3\n"
     ]
    },
    {
     "name": "stderr",
     "output_type": "stream",
     "text": [
      "2023-10-26 14:49:58,909 - train - INFO - ***** Running Validation *****\n",
      "2023-10-26 14:49:58,910 - train - INFO -   Num steps = 155\n",
      "2023-10-26 14:49:58,911 - train - INFO -   Batch size = 16\n",
      "Validating... (loss=0.01163): 100%|| 155/155 [00:08<00:00, 19.21it/s]\n",
      "2023-10-26 14:50:06,984 - train - INFO - \n",
      "\n",
      "2023-10-26 14:50:06,985 - train - INFO - Validation Results\n",
      "2023-10-26 14:50:06,985 - train - INFO - Global Steps: 0\n",
      "2023-10-26 14:50:06,986 - train - INFO - Valid Loss: 0.01977\n",
      "2023-10-26 14:50:06,986 - train - INFO - Valid Accuracy: 0.99355\n"
     ]
    },
    {
     "name": "stdout",
     "output_type": "stream",
     "text": [
      "bw = 4\n"
     ]
    },
    {
     "name": "stderr",
     "output_type": "stream",
     "text": [
      "2023-10-26 14:52:52,361 - train - INFO - ***** Running Validation *****\n",
      "2023-10-26 14:52:52,363 - train - INFO -   Num steps = 155\n",
      "2023-10-26 14:52:52,363 - train - INFO -   Batch size = 16\n",
      "Validating... (loss=0.00324): 100%|| 155/155 [00:08<00:00, 19.22it/s]\n",
      "2023-10-26 14:53:00,431 - train - INFO - \n",
      "\n",
      "2023-10-26 14:53:00,432 - train - INFO - Validation Results\n",
      "2023-10-26 14:53:00,433 - train - INFO - Global Steps: 0\n",
      "2023-10-26 14:53:00,433 - train - INFO - Valid Loss: 0.01394\n",
      "2023-10-26 14:53:00,434 - train - INFO - Valid Accuracy: 0.99556\n"
     ]
    },
    {
     "name": "stdout",
     "output_type": "stream",
     "text": [
      "bw = 8\n"
     ]
    },
    {
     "name": "stderr",
     "output_type": "stream",
     "text": [
      "2023-10-26 14:55:54,863 - train - INFO - ***** Running Validation *****\n",
      "2023-10-26 14:55:54,865 - train - INFO -   Num steps = 155\n",
      "2023-10-26 14:55:54,865 - train - INFO -   Batch size = 16\n",
      "Validating... (loss=0.00268): 100%|| 155/155 [00:08<00:00, 19.20it/s]\n",
      "2023-10-26 14:56:02,943 - train - INFO - \n",
      "\n",
      "2023-10-26 14:56:02,943 - train - INFO - Validation Results\n",
      "2023-10-26 14:56:02,944 - train - INFO - Global Steps: 0\n",
      "2023-10-26 14:56:02,944 - train - INFO - Valid Loss: 0.01144\n",
      "2023-10-26 14:56:02,945 - train - INFO - Valid Accuracy: 0.99758\n"
     ]
    },
    {
     "name": "stdout",
     "output_type": "stream",
     "text": [
      "redundancy = 5\n",
      "bw = 2\n"
     ]
    },
    {
     "name": "stderr",
     "output_type": "stream",
     "text": [
      "2023-10-26 15:01:22,989 - train - INFO - ***** Running Validation *****\n",
      "2023-10-26 15:01:22,993 - train - INFO -   Num steps = 155\n",
      "2023-10-26 15:01:22,994 - train - INFO -   Batch size = 16\n",
      "Validating... (loss=2.33421): 100%|| 155/155 [00:08<00:00, 18.57it/s]\n",
      "2023-10-26 15:01:31,346 - train - INFO - \n",
      "\n",
      "2023-10-26 15:01:31,346 - train - INFO - Validation Results\n",
      "2023-10-26 15:01:31,347 - train - INFO - Global Steps: 0\n",
      "2023-10-26 15:01:31,347 - train - INFO - Valid Loss: 2.49715\n",
      "2023-10-26 15:01:31,348 - train - INFO - Valid Accuracy: 0.14522\n"
     ]
    },
    {
     "name": "stdout",
     "output_type": "stream",
     "text": [
      "bw = 3\n"
     ]
    },
    {
     "name": "stderr",
     "output_type": "stream",
     "text": [
      "2023-10-26 15:06:59,009 - train - INFO - ***** Running Validation *****\n",
      "2023-10-26 15:06:59,012 - train - INFO -   Num steps = 155\n",
      "2023-10-26 15:06:59,012 - train - INFO -   Batch size = 16\n",
      "Validating... (loss=0.00679): 100%|| 155/155 [00:08<00:00, 18.15it/s]\n",
      "2023-10-26 15:07:07,555 - train - INFO - \n",
      "\n",
      "2023-10-26 15:07:07,556 - train - INFO - Validation Results\n",
      "2023-10-26 15:07:07,556 - train - INFO - Global Steps: 0\n",
      "2023-10-26 15:07:07,556 - train - INFO - Valid Loss: 0.02404\n",
      "2023-10-26 15:07:07,557 - train - INFO - Valid Accuracy: 0.99193\n"
     ]
    },
    {
     "name": "stdout",
     "output_type": "stream",
     "text": [
      "bw = 4\n"
     ]
    },
    {
     "name": "stderr",
     "output_type": "stream",
     "text": [
      "2023-10-26 15:12:44,246 - train - INFO - ***** Running Validation *****\n",
      "2023-10-26 15:12:44,247 - train - INFO -   Num steps = 155\n",
      "2023-10-26 15:12:44,248 - train - INFO -   Batch size = 16\n",
      "Validating... (loss=0.00346): 100%|| 155/155 [00:08<00:00, 18.16it/s]\n",
      "2023-10-26 15:12:52,785 - train - INFO - \n",
      "\n",
      "2023-10-26 15:12:52,785 - train - INFO - Validation Results\n",
      "2023-10-26 15:12:52,786 - train - INFO - Global Steps: 0\n",
      "2023-10-26 15:12:52,786 - train - INFO - Valid Loss: 0.01368\n",
      "2023-10-26 15:12:52,786 - train - INFO - Valid Accuracy: 0.99597\n"
     ]
    },
    {
     "name": "stdout",
     "output_type": "stream",
     "text": [
      "bw = 8\n"
     ]
    },
    {
     "name": "stderr",
     "output_type": "stream",
     "text": [
      "2023-10-26 15:18:46,647 - train - INFO - ***** Running Validation *****\n",
      "2023-10-26 15:18:46,649 - train - INFO -   Num steps = 155\n",
      "2023-10-26 15:18:46,649 - train - INFO -   Batch size = 16\n",
      "Validating... (loss=0.00278): 100%|| 155/155 [00:08<00:00, 18.26it/s]\n",
      "2023-10-26 15:18:55,138 - train - INFO - \n",
      "\n",
      "2023-10-26 15:18:55,139 - train - INFO - Validation Results\n",
      "2023-10-26 15:18:55,139 - train - INFO - Global Steps: 0\n",
      "2023-10-26 15:18:55,140 - train - INFO - Valid Loss: 0.01150\n",
      "2023-10-26 15:18:55,140 - train - INFO - Valid Accuracy: 0.99758\n"
     ]
    }
   ],
   "source": [
    "# This is with the Weiner Filter based estimation\n",
    "# redundancies = [1,2,3,4,5]\n",
    "# bws = [2,3,4,8,16,32]\n",
    "redundancies = [1,2,3,4,5]\n",
    "bws = [2,3,4,8]\n",
    "\n",
    "val_accs_naive = {}\n",
    "compressions_naive = {}\n",
    "for redundancy in redundancies:\n",
    "    print(f'{redundancy = }')\n",
    "    # set tff related params\n",
    "    k_attn = int(96 * redundancy)\n",
    "    l_attn = 8\n",
    "    n_attn = 768\n",
    "    tffs = construct_real_tff(k_attn, l_attn // 2, n_attn // 2).to(args.device)\n",
    "\n",
    "    val_accs_r = []\n",
    "    compressions_r = []\n",
    "    for bw in bws:\n",
    "        print(f'{bw = }')\n",
    "        model = VisionTransformer(config, args.img_size, zero_head=False, num_classes=num_classes)\n",
    "        model.load_state_dict(torch.load(ckpt_path))\n",
    "        model.eval()\n",
    "        model.to(args.device)\n",
    "\n",
    "        # set bit width related params\n",
    "        maxq = torch.tensor(2**bw - 1)\n",
    "        for name, param in model.named_parameters():\n",
    "            if 'attn' in name:\n",
    "                wmat = param.data\n",
    "                if 'bias' in name:\n",
    "                    wmat = wmat.view(n_attn,1)\n",
    "                projs = torch.matmul(tffs, wmat)\n",
    "                # quantize the projs\n",
    "                xmax = projs.max()\n",
    "                xmin = projs.min()\n",
    "                scale = (xmax - xmin) / maxq\n",
    "                zero = torch.round(-xmin / scale)\n",
    "                projs_qntzd = quantize_qfna(projs, scale, zero, maxq) \n",
    "                # compute the weiner filter\n",
    "                z = projs_qntzd.view(k_attn*l_attn, -1)\n",
    "                Rxz = wmat @ z.T\n",
    "                Rzz = z @ z.T\n",
    "                wmat_est = Rxz @ torch.linalg.pinv(Rzz) @ z\n",
    "                # param.data = wmat_est.squeeze()\n",
    "                param.data = (tffs.view(-1,n_attn).T @ projs_qntzd.view(k_attn*l_attn, -1)).squeeze()\n",
    "\n",
    "        val_acc = valid(args, model, writer=None, test_loader=test_loader, global_step=0)\n",
    "        val_accs_r.append(val_acc)\n",
    "\n",
    "        compression = 32/(redundancy*bw)\n",
    "        compressions_r.append(compression)\n",
    "    val_accs_naive[redundancy] = val_accs_r\n",
    "    compressions_naive[redundancy] = compressions_r\n"
   ]
  },
  {
   "cell_type": "code",
   "execution_count": 22,
   "metadata": {},
   "outputs": [],
   "source": [
    "# testing the Weiner filter\n",
    "# wmat is x\n",
    "# quantized projs are z\n",
    "z = projs_qntzd.view(k_attn*l_attn, -1)\n",
    "Rxz = wmat @ z.T\n",
    "Rzz = z @ z.T\n",
    "wmat_est = Rxz @ torch.linalg.pinv(Rzz) @ z"
   ]
  },
  {
   "cell_type": "code",
   "execution_count": 25,
   "metadata": {},
   "outputs": [
    {
     "name": "stdout",
     "output_type": "stream",
     "text": [
      "torch.Size([768, 768])\n",
      "torch.Size([768, 768])\n"
     ]
    }
   ],
   "source": [
    "print(wmat_est.shape)\n",
    "print(wmat_est.squeeze().shape)\n"
   ]
  },
  {
   "cell_type": "code",
   "execution_count": 23,
   "metadata": {},
   "outputs": [
    {
     "name": "stdout",
     "output_type": "stream",
     "text": [
      "wmat_est\n",
      "tensor([[-0.0754,  0.0000, -0.1432,  ..., -0.0221,  0.0000,  0.0000],\n",
      "        [ 0.0701,  0.0000,  0.0252,  ...,  0.1035,  0.0000,  0.0000],\n",
      "        [ 0.0363,  0.0000, -0.1531,  ..., -0.0186,  0.0000,  0.0000],\n",
      "        ...,\n",
      "        [ 0.0137,  0.0000,  0.0926,  ..., -0.0392,  0.0000,  0.0000],\n",
      "        [ 0.0546,  0.0000,  0.0163,  ..., -0.1063,  0.0000,  0.0000],\n",
      "        [ 0.0256,  0.0000,  0.0482,  ..., -0.0450,  0.0000,  0.0000]],\n",
      "       device='cuda:0')\n",
      "wmat\n",
      "tensor([[ 0.0174,  0.2517, -0.1405,  ...,  0.0091,  0.2832, -0.0861],\n",
      "        [ 0.1056,  0.3413,  0.0517,  ...,  0.2695, -0.0123, -0.0827],\n",
      "        [ 0.0319, -0.1285, -0.1943,  ...,  0.0244,  0.0331, -0.1172],\n",
      "        ...,\n",
      "        [ 0.0297,  0.0130,  0.1006,  ...,  0.0107, -0.0184, -0.1558],\n",
      "        [ 0.0473,  0.0308, -0.0290,  ..., -0.0648,  0.0281, -0.2286],\n",
      "        [ 0.0561,  0.1141, -0.0054,  ..., -0.0036,  0.0536,  0.0438]],\n",
      "       device='cuda:0')\n",
      "naive\n",
      "tensor([[0., 0., 0.,  ..., 0., 0., 0.],\n",
      "        [0., 0., 0.,  ..., 0., 0., 0.],\n",
      "        [0., 0., 0.,  ..., 0., 0., 0.],\n",
      "        ...,\n",
      "        [0., 0., 0.,  ..., 0., 0., 0.],\n",
      "        [0., 0., 0.,  ..., 0., 0., 0.],\n",
      "        [0., 0., 0.,  ..., 0., 0., 0.]], device='cuda:0')\n",
      "mse_weiner = tensor(0.0051, device='cuda:0')\n",
      "mse_naive = tensor(0.0143, device='cuda:0')\n"
     ]
    }
   ],
   "source": [
    "print('wmat_est')\n",
    "print(wmat_est)\n",
    "print('wmat')\n",
    "print(wmat)\n",
    "print('naive')\n",
    "wmat_naive = tffs.view(-1,n_attn).T @ projs_qntzd.view(k_attn*l_attn, -1)\n",
    "print(wmat_naive)\n",
    "\n",
    "# \n",
    "mse_weiner = F.mse_loss(wmat, wmat_est)\n",
    "print(f'{mse_weiner = }')\n",
    "mse_naive = F.mse_loss(wmat, wmat_naive)\n",
    "print(f'{mse_naive = }')"
   ]
  },
  {
   "cell_type": "code",
   "execution_count": 25,
   "metadata": {},
   "outputs": [
    {
     "data": {
      "image/png": "[encoded data removed]",
      "text/plain": [
       "<Figure size 640x480 with 1 Axes>"
      ]
     },
     "metadata": {},
     "output_type": "display_data"
    },
    {
     "data": {
      "image/png": "[encoded data removed]",
      "text/plain": [
       "<Figure size 640x480 with 1 Axes>"
      ]
     },
     "metadata": {},
     "output_type": "display_data"
    },
    {
     "data": {
      "image/png": "[encoded data removed]",
      "text/plain": [
       "<Figure size 640x480 with 1 Axes>"
      ]
     },
     "metadata": {},
     "output_type": "display_data"
    }
   ],
   "source": [
    "for redundancy in redundancies:\n",
    "    plt.plot(bws[:3], val_accs[redundancy][:3])\n",
    "plt.legend(redundancies)\n",
    "plt.show()\n",
    "\n",
    "for redundancy in redundancies:\n",
    "    plt.plot(bws[:3], compressions[redundancy][:3])\n",
    "plt.legend(redundancies)\n",
    "plt.show()\n",
    "\n",
    "i_s = [1,2]\n",
    "for i in i_s:\n",
    "    val_acc_bw_i = [val_accs[r][i] for r in redundancies]\n",
    "    plt.scatter(np.log2(redundancies), val_acc_bw_i)\n",
    "plt.legend(i_s)\n",
    "plt.show()"
   ]
  },
  {
   "cell_type": "code",
   "execution_count": 26,
   "metadata": {},
   "outputs": [
    {
     "name": "stdout",
     "output_type": "stream",
     "text": [
      "torch.Size([768, 1])\n",
      "torch.Size([768, 8, 1])\n",
      "torch.Size([768, 8, 1])\n",
      "torch.Size([768])\n"
     ]
    }
   ],
   "source": [
    "wmat = wmat.view(n_attn, 1)\n",
    "print(wmat.shape)\n",
    "projs = torch.matmul(tffs, wmat)\n",
    "print(projs.shape)\n",
    "xmax = projs.max()\n",
    "xmin = projs.min()\n",
    "scale = (xmax - xmin) / maxq\n",
    "zero = torch.round(-xmin / scale)\n",
    "projs_qntzd = quantize_qfna(projs, scale, zero, maxq) \n",
    "print(projs_qntzd.shape)\n",
    "new_data = tffs.view(-1,n_attn).T @ projs_qntzd.view(k_attn*l_attn, -1)\n",
    "print(new_data.squeeze().shape)"
   ]
  },
  {
   "cell_type": "code",
   "execution_count": 30,
   "metadata": {},
   "outputs": [
    {
     "data": {
      "text/plain": [
       "torch.Size([768, 768])"
      ]
     },
     "execution_count": 30,
     "metadata": {},
     "output_type": "execute_result"
    }
   ],
   "source": [
    "data = tffs.view(-1,n_attn).T @ projs_qntzd.view(-1,n_attn)\n",
    "data.shape"
   ]
  },
  {
   "cell_type": "code",
   "execution_count": 34,
   "metadata": {},
   "outputs": [
    {
     "name": "stdout",
     "output_type": "stream",
     "text": [
      "torch.Size([1, 197, 768])\n",
      "torch.Size([768, 14, 14])\n",
      "torch.Size([768, 768])\n",
      "tensor(0., device='cuda:0', grad_fn=<MseLossBackward0>)\n"
     ]
    }
   ],
   "source": [
    "for data, lbl in test_loader:\n",
    "    data = data.to(device)\n",
    "    embeds = model.transformer.embeddings(data[0].unsqueeze(0))\n",
    "    print(embeds.shape)\n",
    "    patch_embeds = model.transformer.embeddings.patch_embeddings(data[0])\n",
    "    print(patch_embeds.shape)\n",
    "\n",
    "    emb_wts = model.transformer.embeddings.patch_embeddings.weight.data.view(768,-1)\n",
    "    model.transformer.embeddings.patch_embeddings.weight.data = emb_wts.view(768,3,16,16)\n",
    "    new_embeds = model.transformer.embeddings(data[0].unsqueeze(0))\n",
    "    print(emb_wts.shape)\n",
    "    print(F.mse_loss(embeds, new_embeds))\n",
    "    break"
   ]
  },
  {
   "cell_type": "code",
   "execution_count": 16,
   "metadata": {},
   "outputs": [
    {
     "name": "stdout",
     "output_type": "stream",
     "text": [
      "Conv2d(3, 768, kernel_size=(16, 16), stride=(16, 16))\n",
      "torch.Size([768, 3, 16, 16])\n",
      "torch.Size([768])\n"
     ]
    }
   ],
   "source": [
    "print(model.transformer.embeddings.patch_embeddings)\n",
    "print(model.transformer.embeddings.patch_embeddings.weight.shape)\n",
    "print(model.transformer.embeddings.patch_embeddings.bias.shape)"
   ]
  },
  {
   "cell_type": "code",
   "execution_count": 62,
   "metadata": {},
   "outputs": [
    {
     "name": "stdout",
     "output_type": "stream",
     "text": [
      "VisionTransformer(\n",
      "  (transformer): Transformer(\n",
      "    (embeddings): Embeddings(\n",
      "      (patch_embeddings): Conv2d(3, 768, kernel_size=(16, 16), stride=(16, 16))\n",
      "      (dropout): Dropout(p=0.1, inplace=False)\n",
      "    )\n",
      "    (encoder): Encoder(\n",
      "      (layer): ModuleList(\n",
      "        (0-11): 12 x Block(\n",
      "          (attention_norm): LayerNorm((768,), eps=1e-06, elementwise_affine=True)\n",
      "          (ffn_norm): LayerNorm((768,), eps=1e-06, elementwise_affine=True)\n",
      "          (ffn): Mlp(\n",
      "            (fc1): Linear(in_features=768, out_features=3072, bias=True)\n",
      "            (fc2): Linear(in_features=3072, out_features=768, bias=True)\n",
      "            (dropout): Dropout(p=0.1, inplace=False)\n",
      "          )\n",
      "          (attn): Attention(\n",
      "            (query): Linear(in_features=768, out_features=768, bias=True)\n",
      "            (key): Linear(in_features=768, out_features=768, bias=True)\n",
      "            (value): Linear(in_features=768, out_features=768, bias=True)\n",
      "            (out): Linear(in_features=768, out_features=768, bias=True)\n",
      "            (attn_dropout): Dropout(p=0.0, inplace=False)\n",
      "            (proj_dropout): Dropout(p=0.0, inplace=False)\n",
      "            (softmax): Softmax(dim=-1)\n",
      "          )\n",
      "        )\n",
      "      )\n",
      "      (encoder_norm): LayerNorm((768,), eps=1e-06, elementwise_affine=True)\n",
      "    )\n",
      "  )\n",
      "  (head): Linear(in_features=768, out_features=10, bias=True)\n",
      ")\n",
      "transformer.embeddings.position_embeddings torch.Size([1, 197, 768])\n",
      "transformer.embeddings.cls_token torch.Size([1, 1, 768])\n",
      "transformer.embeddings.patch_embeddings.weight torch.Size([768, 3, 16, 16])\n",
      "transformer.embeddings.patch_embeddings.bias torch.Size([768])\n",
      "transformer.encoder.layer.0.attention_norm.weight torch.Size([768])\n",
      "transformer.encoder.layer.0.attention_norm.bias torch.Size([768])\n",
      "transformer.encoder.layer.0.ffn_norm.weight torch.Size([768])\n",
      "transformer.encoder.layer.0.ffn_norm.bias torch.Size([768])\n",
      "transformer.encoder.layer.0.ffn.fc1.weight torch.Size([3072, 768])\n",
      "transformer.encoder.layer.0.ffn.fc1.bias torch.Size([3072])\n",
      "transformer.encoder.layer.0.ffn.fc2.weight torch.Size([768, 3072])\n",
      "transformer.encoder.layer.0.ffn.fc2.bias torch.Size([768])\n",
      "transformer.encoder.layer.0.attn.query.weight torch.Size([768, 768])\n",
      "transformer.encoder.layer.0.attn.query.bias torch.Size([768])\n",
      "transformer.encoder.layer.0.attn.key.weight torch.Size([768, 768])\n",
      "transformer.encoder.layer.0.attn.key.bias torch.Size([768])\n",
      "transformer.encoder.layer.0.attn.value.weight torch.Size([768, 768])\n",
      "transformer.encoder.layer.0.attn.value.bias torch.Size([768])\n",
      "transformer.encoder.layer.0.attn.out.weight torch.Size([768, 768])\n",
      "transformer.encoder.layer.0.attn.out.bias torch.Size([768])\n",
      "transformer.encoder.layer.1.attention_norm.weight torch.Size([768])\n",
      "transformer.encoder.layer.1.attention_norm.bias torch.Size([768])\n",
      "transformer.encoder.layer.1.ffn_norm.weight torch.Size([768])\n",
      "transformer.encoder.layer.1.ffn_norm.bias torch.Size([768])\n",
      "transformer.encoder.layer.1.ffn.fc1.weight torch.Size([3072, 768])\n",
      "transformer.encoder.layer.1.ffn.fc1.bias torch.Size([3072])\n",
      "transformer.encoder.layer.1.ffn.fc2.weight torch.Size([768, 3072])\n",
      "transformer.encoder.layer.1.ffn.fc2.bias torch.Size([768])\n",
      "transformer.encoder.layer.1.attn.query.weight torch.Size([768, 768])\n",
      "transformer.encoder.layer.1.attn.query.bias torch.Size([768])\n",
      "transformer.encoder.layer.1.attn.key.weight torch.Size([768, 768])\n",
      "transformer.encoder.layer.1.attn.key.bias torch.Size([768])\n",
      "transformer.encoder.layer.1.attn.value.weight torch.Size([768, 768])\n",
      "transformer.encoder.layer.1.attn.value.bias torch.Size([768])\n",
      "transformer.encoder.layer.1.attn.out.weight torch.Size([768, 768])\n",
      "transformer.encoder.layer.1.attn.out.bias torch.Size([768])\n",
      "transformer.encoder.layer.2.attention_norm.weight torch.Size([768])\n",
      "transformer.encoder.layer.2.attention_norm.bias torch.Size([768])\n",
      "transformer.encoder.layer.2.ffn_norm.weight torch.Size([768])\n",
      "transformer.encoder.layer.2.ffn_norm.bias torch.Size([768])\n",
      "transformer.encoder.layer.2.ffn.fc1.weight torch.Size([3072, 768])\n",
      "transformer.encoder.layer.2.ffn.fc1.bias torch.Size([3072])\n",
      "transformer.encoder.layer.2.ffn.fc2.weight torch.Size([768, 3072])\n",
      "transformer.encoder.layer.2.ffn.fc2.bias torch.Size([768])\n",
      "transformer.encoder.layer.2.attn.query.weight torch.Size([768, 768])\n",
      "transformer.encoder.layer.2.attn.query.bias torch.Size([768])\n",
      "transformer.encoder.layer.2.attn.key.weight torch.Size([768, 768])\n",
      "transformer.encoder.layer.2.attn.key.bias torch.Size([768])\n",
      "transformer.encoder.layer.2.attn.value.weight torch.Size([768, 768])\n",
      "transformer.encoder.layer.2.attn.value.bias torch.Size([768])\n",
      "transformer.encoder.layer.2.attn.out.weight torch.Size([768, 768])\n",
      "transformer.encoder.layer.2.attn.out.bias torch.Size([768])\n",
      "transformer.encoder.layer.3.attention_norm.weight torch.Size([768])\n",
      "transformer.encoder.layer.3.attention_norm.bias torch.Size([768])\n",
      "transformer.encoder.layer.3.ffn_norm.weight torch.Size([768])\n",
      "transformer.encoder.layer.3.ffn_norm.bias torch.Size([768])\n",
      "transformer.encoder.layer.3.ffn.fc1.weight torch.Size([3072, 768])\n",
      "transformer.encoder.layer.3.ffn.fc1.bias torch.Size([3072])\n",
      "transformer.encoder.layer.3.ffn.fc2.weight torch.Size([768, 3072])\n",
      "transformer.encoder.layer.3.ffn.fc2.bias torch.Size([768])\n",
      "transformer.encoder.layer.3.attn.query.weight torch.Size([768, 768])\n",
      "transformer.encoder.layer.3.attn.query.bias torch.Size([768])\n",
      "transformer.encoder.layer.3.attn.key.weight torch.Size([768, 768])\n",
      "transformer.encoder.layer.3.attn.key.bias torch.Size([768])\n",
      "transformer.encoder.layer.3.attn.value.weight torch.Size([768, 768])\n",
      "transformer.encoder.layer.3.attn.value.bias torch.Size([768])\n",
      "transformer.encoder.layer.3.attn.out.weight torch.Size([768, 768])\n",
      "transformer.encoder.layer.3.attn.out.bias torch.Size([768])\n",
      "transformer.encoder.layer.4.attention_norm.weight torch.Size([768])\n",
      "transformer.encoder.layer.4.attention_norm.bias torch.Size([768])\n",
      "transformer.encoder.layer.4.ffn_norm.weight torch.Size([768])\n",
      "transformer.encoder.layer.4.ffn_norm.bias torch.Size([768])\n",
      "transformer.encoder.layer.4.ffn.fc1.weight torch.Size([3072, 768])\n",
      "transformer.encoder.layer.4.ffn.fc1.bias torch.Size([3072])\n",
      "transformer.encoder.layer.4.ffn.fc2.weight torch.Size([768, 3072])\n",
      "transformer.encoder.layer.4.ffn.fc2.bias torch.Size([768])\n",
      "transformer.encoder.layer.4.attn.query.weight torch.Size([768, 768])\n",
      "transformer.encoder.layer.4.attn.query.bias torch.Size([768])\n",
      "transformer.encoder.layer.4.attn.key.weight torch.Size([768, 768])\n",
      "transformer.encoder.layer.4.attn.key.bias torch.Size([768])\n",
      "transformer.encoder.layer.4.attn.value.weight torch.Size([768, 768])\n",
      "transformer.encoder.layer.4.attn.value.bias torch.Size([768])\n",
      "transformer.encoder.layer.4.attn.out.weight torch.Size([768, 768])\n",
      "transformer.encoder.layer.4.attn.out.bias torch.Size([768])\n",
      "transformer.encoder.layer.5.attention_norm.weight torch.Size([768])\n",
      "transformer.encoder.layer.5.attention_norm.bias torch.Size([768])\n",
      "transformer.encoder.layer.5.ffn_norm.weight torch.Size([768])\n",
      "transformer.encoder.layer.5.ffn_norm.bias torch.Size([768])\n",
      "transformer.encoder.layer.5.ffn.fc1.weight torch.Size([3072, 768])\n",
      "transformer.encoder.layer.5.ffn.fc1.bias torch.Size([3072])\n",
      "transformer.encoder.layer.5.ffn.fc2.weight torch.Size([768, 3072])\n",
      "transformer.encoder.layer.5.ffn.fc2.bias torch.Size([768])\n",
      "transformer.encoder.layer.5.attn.query.weight torch.Size([768, 768])\n",
      "transformer.encoder.layer.5.attn.query.bias torch.Size([768])\n",
      "transformer.encoder.layer.5.attn.key.weight torch.Size([768, 768])\n",
      "transformer.encoder.layer.5.attn.key.bias torch.Size([768])\n",
      "transformer.encoder.layer.5.attn.value.weight torch.Size([768, 768])\n",
      "transformer.encoder.layer.5.attn.value.bias torch.Size([768])\n",
      "transformer.encoder.layer.5.attn.out.weight torch.Size([768, 768])\n",
      "transformer.encoder.layer.5.attn.out.bias torch.Size([768])\n",
      "transformer.encoder.layer.6.attention_norm.weight torch.Size([768])\n",
      "transformer.encoder.layer.6.attention_norm.bias torch.Size([768])\n",
      "transformer.encoder.layer.6.ffn_norm.weight torch.Size([768])\n",
      "transformer.encoder.layer.6.ffn_norm.bias torch.Size([768])\n",
      "transformer.encoder.layer.6.ffn.fc1.weight torch.Size([3072, 768])\n",
      "transformer.encoder.layer.6.ffn.fc1.bias torch.Size([3072])\n",
      "transformer.encoder.layer.6.ffn.fc2.weight torch.Size([768, 3072])\n",
      "transformer.encoder.layer.6.ffn.fc2.bias torch.Size([768])\n",
      "transformer.encoder.layer.6.attn.query.weight torch.Size([768, 768])\n",
      "transformer.encoder.layer.6.attn.query.bias torch.Size([768])\n",
      "transformer.encoder.layer.6.attn.key.weight torch.Size([768, 768])\n",
      "transformer.encoder.layer.6.attn.key.bias torch.Size([768])\n",
      "transformer.encoder.layer.6.attn.value.weight torch.Size([768, 768])\n",
      "transformer.encoder.layer.6.attn.value.bias torch.Size([768])\n",
      "transformer.encoder.layer.6.attn.out.weight torch.Size([768, 768])\n",
      "transformer.encoder.layer.6.attn.out.bias torch.Size([768])\n",
      "transformer.encoder.layer.7.attention_norm.weight torch.Size([768])\n",
      "transformer.encoder.layer.7.attention_norm.bias torch.Size([768])\n",
      "transformer.encoder.layer.7.ffn_norm.weight torch.Size([768])\n",
      "transformer.encoder.layer.7.ffn_norm.bias torch.Size([768])\n",
      "transformer.encoder.layer.7.ffn.fc1.weight torch.Size([3072, 768])\n",
      "transformer.encoder.layer.7.ffn.fc1.bias torch.Size([3072])\n",
      "transformer.encoder.layer.7.ffn.fc2.weight torch.Size([768, 3072])\n",
      "transformer.encoder.layer.7.ffn.fc2.bias torch.Size([768])\n",
      "transformer.encoder.layer.7.attn.query.weight torch.Size([768, 768])\n",
      "transformer.encoder.layer.7.attn.query.bias torch.Size([768])\n",
      "transformer.encoder.layer.7.attn.key.weight torch.Size([768, 768])\n",
      "transformer.encoder.layer.7.attn.key.bias torch.Size([768])\n",
      "transformer.encoder.layer.7.attn.value.weight torch.Size([768, 768])\n",
      "transformer.encoder.layer.7.attn.value.bias torch.Size([768])\n",
      "transformer.encoder.layer.7.attn.out.weight torch.Size([768, 768])\n",
      "transformer.encoder.layer.7.attn.out.bias torch.Size([768])\n",
      "transformer.encoder.layer.8.attention_norm.weight torch.Size([768])\n",
      "transformer.encoder.layer.8.attention_norm.bias torch.Size([768])\n",
      "transformer.encoder.layer.8.ffn_norm.weight torch.Size([768])\n",
      "transformer.encoder.layer.8.ffn_norm.bias torch.Size([768])\n",
      "transformer.encoder.layer.8.ffn.fc1.weight torch.Size([3072, 768])\n",
      "transformer.encoder.layer.8.ffn.fc1.bias torch.Size([3072])\n",
      "transformer.encoder.layer.8.ffn.fc2.weight torch.Size([768, 3072])\n",
      "transformer.encoder.layer.8.ffn.fc2.bias torch.Size([768])\n",
      "transformer.encoder.layer.8.attn.query.weight torch.Size([768, 768])\n",
      "transformer.encoder.layer.8.attn.query.bias torch.Size([768])\n",
      "transformer.encoder.layer.8.attn.key.weight torch.Size([768, 768])\n",
      "transformer.encoder.layer.8.attn.key.bias torch.Size([768])\n",
      "transformer.encoder.layer.8.attn.value.weight torch.Size([768, 768])\n",
      "transformer.encoder.layer.8.attn.value.bias torch.Size([768])\n",
      "transformer.encoder.layer.8.attn.out.weight torch.Size([768, 768])\n",
      "transformer.encoder.layer.8.attn.out.bias torch.Size([768])\n",
      "transformer.encoder.layer.9.attention_norm.weight torch.Size([768])\n",
      "transformer.encoder.layer.9.attention_norm.bias torch.Size([768])\n",
      "transformer.encoder.layer.9.ffn_norm.weight torch.Size([768])\n",
      "transformer.encoder.layer.9.ffn_norm.bias torch.Size([768])\n",
      "transformer.encoder.layer.9.ffn.fc1.weight torch.Size([3072, 768])\n",
      "transformer.encoder.layer.9.ffn.fc1.bias torch.Size([3072])\n",
      "transformer.encoder.layer.9.ffn.fc2.weight torch.Size([768, 3072])\n",
      "transformer.encoder.layer.9.ffn.fc2.bias torch.Size([768])\n",
      "transformer.encoder.layer.9.attn.query.weight torch.Size([768, 768])\n",
      "transformer.encoder.layer.9.attn.query.bias torch.Size([768])\n",
      "transformer.encoder.layer.9.attn.key.weight torch.Size([768, 768])\n",
      "transformer.encoder.layer.9.attn.key.bias torch.Size([768])\n",
      "transformer.encoder.layer.9.attn.value.weight torch.Size([768, 768])\n",
      "transformer.encoder.layer.9.attn.value.bias torch.Size([768])\n",
      "transformer.encoder.layer.9.attn.out.weight torch.Size([768, 768])\n",
      "transformer.encoder.layer.9.attn.out.bias torch.Size([768])\n",
      "transformer.encoder.layer.10.attention_norm.weight torch.Size([768])\n",
      "transformer.encoder.layer.10.attention_norm.bias torch.Size([768])\n",
      "transformer.encoder.layer.10.ffn_norm.weight torch.Size([768])\n",
      "transformer.encoder.layer.10.ffn_norm.bias torch.Size([768])\n",
      "transformer.encoder.layer.10.ffn.fc1.weight torch.Size([3072, 768])\n",
      "transformer.encoder.layer.10.ffn.fc1.bias torch.Size([3072])\n",
      "transformer.encoder.layer.10.ffn.fc2.weight torch.Size([768, 3072])\n",
      "transformer.encoder.layer.10.ffn.fc2.bias torch.Size([768])\n",
      "transformer.encoder.layer.10.attn.query.weight torch.Size([768, 768])\n",
      "transformer.encoder.layer.10.attn.query.bias torch.Size([768])\n",
      "transformer.encoder.layer.10.attn.key.weight torch.Size([768, 768])\n",
      "transformer.encoder.layer.10.attn.key.bias torch.Size([768])\n",
      "transformer.encoder.layer.10.attn.value.weight torch.Size([768, 768])\n",
      "transformer.encoder.layer.10.attn.value.bias torch.Size([768])\n",
      "transformer.encoder.layer.10.attn.out.weight torch.Size([768, 768])\n",
      "transformer.encoder.layer.10.attn.out.bias torch.Size([768])\n",
      "transformer.encoder.layer.11.attention_norm.weight torch.Size([768])\n",
      "transformer.encoder.layer.11.attention_norm.bias torch.Size([768])\n",
      "transformer.encoder.layer.11.ffn_norm.weight torch.Size([768])\n",
      "transformer.encoder.layer.11.ffn_norm.bias torch.Size([768])\n",
      "transformer.encoder.layer.11.ffn.fc1.weight torch.Size([3072, 768])\n",
      "transformer.encoder.layer.11.ffn.fc1.bias torch.Size([3072])\n",
      "transformer.encoder.layer.11.ffn.fc2.weight torch.Size([768, 3072])\n",
      "transformer.encoder.layer.11.ffn.fc2.bias torch.Size([768])\n",
      "transformer.encoder.layer.11.attn.query.weight torch.Size([768, 768])\n",
      "transformer.encoder.layer.11.attn.query.bias torch.Size([768])\n",
      "transformer.encoder.layer.11.attn.key.weight torch.Size([768, 768])\n",
      "transformer.encoder.layer.11.attn.key.bias torch.Size([768])\n",
      "transformer.encoder.layer.11.attn.value.weight torch.Size([768, 768])\n",
      "transformer.encoder.layer.11.attn.value.bias torch.Size([768])\n",
      "transformer.encoder.layer.11.attn.out.weight torch.Size([768, 768])\n",
      "transformer.encoder.layer.11.attn.out.bias torch.Size([768])\n",
      "transformer.encoder.encoder_norm.weight torch.Size([768])\n",
      "transformer.encoder.encoder_norm.bias torch.Size([768])\n",
      "head.weight torch.Size([10, 768])\n",
      "head.bias torch.Size([10])\n"
     ]
    }
   ],
   "source": [
    "print(model)\n",
    "for name, param in model.named_parameters():\n",
    "    print(name, param.shape)"
   ]
  },
  {
   "cell_type": "code",
   "execution_count": 72,
   "metadata": {},
   "outputs": [
    {
     "name": "stdout",
     "output_type": "stream",
     "text": [
      "torch.Size([3072, 768])\n"
     ]
    },
    {
     "data": {
      "text/plain": [
       "tensor(8.3674e-11, device='cuda:0', grad_fn=<MeanBackward0>)"
      ]
     },
     "execution_count": 72,
     "metadata": {},
     "output_type": "execute_result"
    }
   ],
   "source": [
    "len(model.transformer.encoder.layer[0].ffn_norm.weight.shape)\n",
    "print(model.transformer.encoder.layer[0].ffn.fc1.weight.shape)\n",
    "model.transformer.encoder.layer[0].ffn.fc1.weight.mean(dim=1, keepdim=True).shape\n",
    "kk = model.transformer.encoder.layer[0].ffn.fc1.weight - model.transformer.encoder.layer[0].ffn.fc1.weight.mean(dim=1, keepdim=True)\n",
    "kk.mean()"
   ]
  },
  {
   "cell_type": "code",
   "execution_count": 99,
   "metadata": {},
   "outputs": [],
   "source": [
    "tffs = {}\n",
    "k_attn = int(96 * redundancy)\n",
    "l_attn = 8\n",
    "n_attn = 768\n",
    "tffs[n_attn] = construct_real_tff(k_attn, l_attn // 2, n_attn // 2).to(args.device)\n",
    "\n",
    "k_mlp = int(384 * redundancy)\n",
    "l_mlp = 8\n",
    "n_mlp = 3072\n",
    "tffs[n_mlp] = construct_real_tff(k_mlp, l_mlp // 2, n_mlp // 2).to(args.device)\n",
    "\n",
    "k_head = int(5 * redundancy)\n",
    "l_head = 2\n",
    "n_head = 10\n",
    "tffs[n_head] = construct_real_tff(k_head, l_head // 2, n_head // 2).to(args.device)\n",
    "\n",
    "wmat = model.transformer.encoder.layer[0].attn.query.weight.data\n",
    "wmean = wmat.mean(dim=1, keepdim=True)\n",
    "wmat = wmat - wmean\n",
    "tff_n = wmat.shape[0]\n",
    "projs = torch.matmul(tffs[tff_n], wmat)\n",
    "num_frames = projs.shape[0]*projs.shape[1]\n",
    "# quantize the projs\n",
    "xmax = projs.max()\n",
    "xmin = projs.min()\n",
    "scale = (xmax - xmin) / maxq\n",
    "zero = torch.round(-xmin / scale)\n",
    "projs_qntzd = quantize_qfna(projs, scale, zero, maxq) \n",
    "\n",
    "z = projs_qntzd.view(num_frames, -1)\n",
    "p = projs.view(num_frames, -1)\n",
    "n = p-z\n",
    "var_x = (wmat**2).mean(dim=1)\n",
    "var_n = (n**2).mean(dim=1) # this can be optimized I guess\n",
    "# wmat_est = (var_x/(var_x + var_n))*(tffs[tff_n].view(-1,tff_n).T @ z).squeeze()\n",
    "wmat_naive = (tffs[tff_n].view(-1,tff_n).T @ z).squeeze()\n",
    "\n",
    "Rxz = torch.diag(var_x) @ tffs[tff_n].view(-1,tff_n).T\n",
    "Rzz = tffs[tff_n].view(-1,tff_n) @ torch.diag(var_x) @ tffs[tff_n].view(-1,tff_n).T + var_n\n",
    "wmat_est2 = Rxz @ torch.linalg.pinv(Rzz) @ z\n",
    "wmat_est2 = wmat_est.squeeze()"
   ]
  },
  {
   "cell_type": "code",
   "execution_count": 100,
   "metadata": {},
   "outputs": [
    {
     "name": "stdout",
     "output_type": "stream",
     "text": [
      "tensor(0.0058, device='cuda:0')\n",
      "tensor(0.0061, device='cuda:0')\n",
      "tensor(0.0058, device='cuda:0')\n"
     ]
    }
   ],
   "source": [
    "print(F.mse_loss(wmat_est, wmat))\n",
    "print(F.mse_loss(wmat_naive, wmat))\n",
    "print(F.mse_loss(wmat_est2, wmat))"
   ]
  },
  {
   "cell_type": "code",
   "execution_count": 37,
   "metadata": {},
   "outputs": [
    {
     "name": "stdout",
     "output_type": "stream",
     "text": [
      "4718592\n",
      "2359296\n"
     ]
    }
   ],
   "source": [
    "print(768*3072*2)\n",
    "print(768*768*4)"
   ]
  },
  {
   "cell_type": "code",
   "execution_count": 26,
   "metadata": {},
   "outputs": [
    {
     "name": "stdout",
     "output_type": "stream",
     "text": [
      "torch.Size([24576, 768])\n",
      "torch.Size([24576, 768])\n",
      "tensor([[-0.0129,  0.1042, -0.0019,  ...,  0.0456, -0.2268, -0.1550],\n",
      "        [-0.1100, -0.2558, -0.1204,  ..., -0.0983, -0.0521,  0.2906],\n",
      "        [-0.0483, -0.1248,  0.0144,  ..., -0.0147, -0.1421, -0.0169],\n",
      "        ...,\n",
      "        [ 0.0970,  0.0697, -0.0876,  ..., -0.0513, -0.1847, -0.0328],\n",
      "        [-0.0626, -0.1369,  0.0075,  ...,  0.0609,  0.0814,  0.1998],\n",
      "        [ 0.0776, -0.0431,  0.0912,  ...,  0.0103, -0.0486, -0.1427]],\n",
      "       device='cuda:0')\n",
      "tensor([[-2.0988e-02,  1.0401e-01,  2.3317e-04,  ...,  4.0344e-02,\n",
      "         -2.2387e-01, -1.4948e-01],\n",
      "        [-1.1264e-01, -2.5652e-01, -1.0984e-01,  ..., -9.6545e-02,\n",
      "         -4.7573e-02,  2.8870e-01],\n",
      "        [-5.6360e-02, -1.2636e-01,  1.6675e-02,  ..., -1.7930e-02,\n",
      "         -1.4832e-01, -2.1397e-03],\n",
      "        ...,\n",
      "        [ 9.8019e-02,  7.2981e-02, -8.8432e-02,  ..., -6.1036e-02,\n",
      "         -1.8832e-01, -3.4175e-02],\n",
      "        [-5.9564e-02, -1.4381e-01,  5.7519e-03,  ...,  5.7240e-02,\n",
      "          8.6452e-02,  1.9454e-01],\n",
      "        [ 7.3754e-02, -4.9772e-02,  9.4854e-02,  ...,  9.0891e-03,\n",
      "         -4.5581e-02, -1.3773e-01]], device='cuda:0')\n",
      "projs\n",
      "mse = tensor(2.3349e-05, device='cuda:0')\n"
     ]
    }
   ],
   "source": [
    "print(tffs.view(-1,n_attn).shape)\n",
    "print(projs.view(-1,n_attn).shape)\n",
    "print(wmat)\n",
    "print(tffs.view(-1,n_attn).T @ projs_qntzd.view(-1,n_attn))\n",
    "print('projs')\n",
    "# print(projs)\n",
    "# print(projs_qntzd)\n",
    "tffs_qntz = tffs.view(-1,n_attn).T @ projs_qntzd.view(-1,n_attn)\n",
    "mse = F.mse_loss(tffs_qntz, wmat)\n",
    "print(f'{mse = }')"
   ]
  },
  {
   "cell_type": "code",
   "execution_count": 13,
   "metadata": {},
   "outputs": [
    {
     "name": "stdout",
     "output_type": "stream",
     "text": [
      "redundancy = 1.0\n",
      "bw = 2, mse = tensor(0.0055, device='cuda:0'), redundancies = [1]\n"
     ]
    }
   ],
   "source": [
    "# Quantization bit\n",
    "for name, param in model.named_parameters():\n",
    "    bw = 2\n",
    "    maxq = torch.tensor(2**bw - 1)\n",
    "    wmat = param.data\n",
    "\n",
    "for looking_layer in [5]:\n",
    "    # bits = [2,4,6,8,12,18,24,28, 32]\n",
    "    # bits = [8,10,12]\n",
    "    # redundancies = [1,4,8,16,32]\n",
    "    bits = [2]\n",
    "    redundancies = [1]\n",
    "    plt.figure()\n",
    "    for redundancy in redundancies:\n",
    "        mses = []\n",
    "        compressions = []\n",
    "        for bw in bits:\n",
    "            maxq = torch.tensor(2**bw - 1)\n",
    "            wmat = model.transformer.encoder.layer[looking_layer].attn.key.weight.data\n",
    "            k_attn = int(96 * redundancy)\n",
    "            l_attn = 8\n",
    "            n_attn = 768\n",
    "            print(f'redundancy = {k_attn*l_attn/n_attn}')\n",
    "            tffs = construct_real_tff(k_attn, l_attn // 2, n_attn // 2).to(args.device)\n",
    "            projs = torch.matmul(tffs, wmat)\n",
    "            # quantize the projs\n",
    "            xmax = projs.max()\n",
    "            xmin = projs.min()\n",
    "            scale = (xmax - xmin) / maxq\n",
    "            zero = torch.round(-xmin / scale)\n",
    "            projs_qntzd = quantize_qfna(projs, scale, zero, maxq) \n",
    "            mse = F.mse_loss(projs, projs_qntzd)\n",
    "            mses.append(mse.item())\n",
    "\n",
    "            compression = (32)//(bw*redundancy)\n",
    "            compressions.append(compression)\n",
    "            print(f'{bw = }, {mse = }, {redundancies = }')\n",
    "        plt.semilogy(bits, mses)\n",
    "    plt.legend([f'redundancy={i}x' for i in redundancies])\n",
    "    plt.xlabel('number of bits')\n",
    "    plt.ylabel('MSE')\n",
    "    plt.title(f'layer {looking_layer}, MSE b/w the true weight, quantized weights')\n",
    "    plt.grid()\n",
    "    plt.savefig(f'./l{looking_layer}k')\n",
    "    plt.close()"
   ]
  },
  {
   "cell_type": "code",
   "execution_count": 16,
   "metadata": {},
   "outputs": [
    {
     "name": "stdout",
     "output_type": "stream",
     "text": [
      "tensor([[[ 0.0374, -0.1320, -0.0572,  ..., -0.1327, -0.1225, -0.1874],\n",
      "         [-0.0471, -0.0683,  0.0609,  ...,  0.1082,  0.0321, -0.0870],\n",
      "         [ 0.0353,  0.1633,  0.0751,  ...,  0.0636, -0.0141,  0.1563],\n",
      "         ...,\n",
      "         [ 0.0939, -0.0422, -0.0873,  ...,  0.1134, -0.0979,  0.1152],\n",
      "         [-0.0567, -0.1006, -0.0826,  ...,  0.0358, -0.0855,  0.0146],\n",
      "         [ 0.0373,  0.1293,  0.0467,  ..., -0.0486, -0.0502,  0.0970]],\n",
      "\n",
      "        [[-0.0795, -0.0548,  0.0145,  ...,  0.0806, -0.0950, -0.0070],\n",
      "         [ 0.1856, -0.0286, -0.0224,  ..., -0.0666,  0.0139, -0.1065],\n",
      "         [-0.0943, -0.2503, -0.0169,  ..., -0.0654,  0.0940,  0.0977],\n",
      "         ...,\n",
      "         [ 0.0252,  0.0780,  0.0261,  ..., -0.0120,  0.0988,  0.0457],\n",
      "         [-0.0756, -0.0776,  0.0341,  ..., -0.0170,  0.0353,  0.1005],\n",
      "         [-0.0081,  0.1360, -0.0046,  ...,  0.1070, -0.1370, -0.1372]],\n",
      "\n",
      "        [[-0.0019, -0.1659, -0.1155,  ...,  0.0015,  0.0870, -0.1717],\n",
      "         [ 0.0193, -0.0307, -0.1263,  ..., -0.0852,  0.1100,  0.0016],\n",
      "         [-0.0309,  0.0172, -0.1371,  ...,  0.0453, -0.1915,  0.0832],\n",
      "         ...,\n",
      "         [ 0.0645,  0.0121, -0.0542,  ..., -0.0602,  0.0256, -0.0087],\n",
      "         [ 0.0015, -0.0588,  0.1329,  ..., -0.0365, -0.0496, -0.1433],\n",
      "         [ 0.0778,  0.0143,  0.0606,  ..., -0.0334,  0.1781,  0.0022]],\n",
      "\n",
      "        ...,\n",
      "\n",
      "        [[ 0.0761, -0.0683,  0.1326,  ..., -0.0084, -0.1067, -0.0651],\n",
      "         [-0.0494, -0.1886,  0.1171,  ...,  0.0604, -0.1098, -0.1261],\n",
      "         [ 0.1139, -0.1090,  0.1052,  ...,  0.2138,  0.0028,  0.1295],\n",
      "         ...,\n",
      "         [-0.0141, -0.0653,  0.0519,  ...,  0.0599,  0.0916,  0.0282],\n",
      "         [ 0.0040, -0.0788,  0.0056,  ...,  0.0837, -0.0086,  0.0800],\n",
      "         [ 0.0618, -0.1220, -0.0205,  ..., -0.0858, -0.1899, -0.1344]],\n",
      "\n",
      "        [[ 0.2203,  0.0882,  0.0980,  ..., -0.1163,  0.0995,  0.2200],\n",
      "         [ 0.0442,  0.0480, -0.0897,  ..., -0.1503, -0.1116,  0.1392],\n",
      "         [ 0.0897,  0.1532,  0.1227,  ...,  0.1024, -0.0380,  0.0377],\n",
      "         ...,\n",
      "         [-0.0487, -0.1117, -0.1311,  ..., -0.0280, -0.2141,  0.0337],\n",
      "         [ 0.0814,  0.0779,  0.0087,  ...,  0.0588,  0.1192, -0.0712],\n",
      "         [ 0.0496,  0.0123, -0.0205,  ...,  0.0835,  0.0074, -0.1012]],\n",
      "\n",
      "        [[ 0.0739, -0.0316, -0.0246,  ...,  0.1031, -0.0621, -0.2310],\n",
      "         [-0.0495, -0.0934, -0.0509,  ..., -0.1455,  0.0774,  0.2247],\n",
      "         [-0.1161, -0.0008,  0.0659,  ...,  0.0250, -0.0169, -0.1155],\n",
      "         ...,\n",
      "         [ 0.0572,  0.1703,  0.0010,  ..., -0.0711,  0.0060,  0.1620],\n",
      "         [ 0.0154, -0.0423,  0.0260,  ...,  0.0875,  0.2806,  0.1159],\n",
      "         [ 0.1255, -0.0296, -0.0169,  ...,  0.0823, -0.0644,  0.0803]]],\n",
      "       device='cuda:0')\n",
      "quantize_qfna\n",
      "tensor([[[ 0.0000,  0.0000,  0.0000,  ...,  0.0000,  0.0000, -0.3070],\n",
      "         [ 0.0000,  0.0000,  0.0000,  ...,  0.0000,  0.0000,  0.0000],\n",
      "         [ 0.0000,  0.3070,  0.0000,  ...,  0.0000,  0.0000,  0.3070],\n",
      "         ...,\n",
      "         [ 0.0000,  0.0000,  0.0000,  ...,  0.0000,  0.0000,  0.0000],\n",
      "         [ 0.0000,  0.0000,  0.0000,  ...,  0.0000,  0.0000,  0.0000],\n",
      "         [ 0.0000,  0.0000,  0.0000,  ...,  0.0000,  0.0000,  0.0000]],\n",
      "\n",
      "        [[ 0.0000,  0.0000,  0.0000,  ...,  0.0000,  0.0000,  0.0000],\n",
      "         [ 0.3070,  0.0000,  0.0000,  ...,  0.0000,  0.0000,  0.0000],\n",
      "         [ 0.0000, -0.3070,  0.0000,  ...,  0.0000,  0.0000,  0.0000],\n",
      "         ...,\n",
      "         [ 0.0000,  0.0000,  0.0000,  ...,  0.0000,  0.0000,  0.0000],\n",
      "         [ 0.0000,  0.0000,  0.0000,  ...,  0.0000,  0.0000,  0.0000],\n",
      "         [ 0.0000,  0.0000,  0.0000,  ...,  0.0000,  0.0000,  0.0000]],\n",
      "\n",
      "        [[ 0.0000, -0.3070,  0.0000,  ...,  0.0000,  0.0000, -0.3070],\n",
      "         [ 0.0000,  0.0000,  0.0000,  ...,  0.0000,  0.0000,  0.0000],\n",
      "         [ 0.0000,  0.0000,  0.0000,  ...,  0.0000, -0.3070,  0.0000],\n",
      "         ...,\n",
      "         [ 0.0000,  0.0000,  0.0000,  ...,  0.0000,  0.0000,  0.0000],\n",
      "         [ 0.0000,  0.0000,  0.0000,  ...,  0.0000,  0.0000,  0.0000],\n",
      "         [ 0.0000,  0.0000,  0.0000,  ...,  0.0000,  0.3070,  0.0000]],\n",
      "\n",
      "        ...,\n",
      "\n",
      "        [[ 0.0000,  0.0000,  0.0000,  ...,  0.0000,  0.0000,  0.0000],\n",
      "         [ 0.0000, -0.3070,  0.0000,  ...,  0.0000,  0.0000,  0.0000],\n",
      "         [ 0.0000,  0.0000,  0.0000,  ...,  0.3070,  0.0000,  0.0000],\n",
      "         ...,\n",
      "         [ 0.0000,  0.0000,  0.0000,  ...,  0.0000,  0.0000,  0.0000],\n",
      "         [ 0.0000,  0.0000,  0.0000,  ...,  0.0000,  0.0000,  0.0000],\n",
      "         [ 0.0000,  0.0000,  0.0000,  ...,  0.0000, -0.3070,  0.0000]],\n",
      "\n",
      "        [[ 0.3070,  0.0000,  0.0000,  ...,  0.0000,  0.0000,  0.3070],\n",
      "         [ 0.0000,  0.0000,  0.0000,  ...,  0.0000,  0.0000,  0.0000],\n",
      "         [ 0.0000,  0.0000,  0.0000,  ...,  0.0000,  0.0000,  0.0000],\n",
      "         ...,\n",
      "         [ 0.0000,  0.0000,  0.0000,  ...,  0.0000, -0.3070,  0.0000],\n",
      "         [ 0.0000,  0.0000,  0.0000,  ...,  0.0000,  0.0000,  0.0000],\n",
      "         [ 0.0000,  0.0000,  0.0000,  ...,  0.0000,  0.0000,  0.0000]],\n",
      "\n",
      "        [[ 0.0000,  0.0000,  0.0000,  ...,  0.0000,  0.0000, -0.3070],\n",
      "         [ 0.0000,  0.0000,  0.0000,  ...,  0.0000,  0.0000,  0.3070],\n",
      "         [ 0.0000,  0.0000,  0.0000,  ...,  0.0000,  0.0000,  0.0000],\n",
      "         ...,\n",
      "         [ 0.0000,  0.3070,  0.0000,  ...,  0.0000,  0.0000,  0.3070],\n",
      "         [ 0.0000,  0.0000,  0.0000,  ...,  0.0000,  0.3070,  0.0000],\n",
      "         [ 0.0000,  0.0000,  0.0000,  ...,  0.0000,  0.0000,  0.0000]]],\n",
      "       device='cuda:0')\n"
     ]
    }
   ],
   "source": [
    "print(projs)\n",
    "print('quantize_qfna')\n",
    "print(projs_qntzd)"
   ]
  }
 ],
 "metadata": {
  "kernelspec": {
   "display_name": "bnetff",
   "language": "python",
   "name": "python3"
  },
  "language_info": {
   "codemirror_mode": {
    "name": "ipython",
    "version": 3
   },
   "file_extension": ".py",
   "mimetype": "text/x-python",
   "name": "python",
   "nbconvert_exporter": "python",
   "pygments_lexer": "ipython3",
   "version": "3.11.5"
  }
 },
 "nbformat": 4,
 "nbformat_minor": 2
}
