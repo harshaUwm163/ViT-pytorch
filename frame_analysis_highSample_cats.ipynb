{
 "cells": [
  {
   "cell_type": "code",
   "execution_count": 11,
   "metadata": {},
   "outputs": [],
   "source": [
    "from train import *\n",
    "from addict import Dict\n",
    "import logging\n",
    "from utils.construct_tff import construct_real_tff\n",
    "import matplotlib.pyplot as plt\n",
    "from utils.data_utils import get_loader\n",
    "!export CUDA_VISIBLE_DEVICES=6"
   ]
  },
  {
   "cell_type": "code",
   "execution_count": 12,
   "metadata": {},
   "outputs": [],
   "source": [
    "logger = logging.getLogger(__name__)"
   ]
  },
  {
   "cell_type": "code",
   "execution_count": 13,
   "metadata": {},
   "outputs": [],
   "source": [
    "args = Dict()\n",
    "args.model_type = 'ViT-B_16'\n",
    "args.img_size = 224\n",
    "args.pretrained_dir = 'checkpoint/ViT-B_16.npz'\n",
    "device = torch.device(\"cuda\" if torch.cuda.is_available() else \"cpu\")\n",
    "args.device = device\n",
    "args.local_rank = -1\n",
    "args.train_batch_size = 128 \n",
    "args.eval_batch_size = 128\n",
    "\n",
    "# args.dataset = 'inet1k_cats'\n",
    "# args.dataset_dir = 'data/inet1k_classes/cats'\n",
    "# ckpt_path = 'output/inet1k_cats-2023-10-02-22-19-15/inet1k_cats_final_ckpt.bin' \n",
    "# args.dataset = 'inet1k_birds'\n",
    "# args.dataset_dir = 'data/inet1k_classes/birds'\n",
    "# ckpt_path = 'output/inet1k_birds-2023-10-02-22-25-22/inet1k_birds_final_ckpt.bin'\n",
    "# args.dataset = 'inet1k_dogs'\n",
    "# args.dataset_dir = 'data/inet1k_classes/dogs'\n",
    "# ckpt_path = 'output/inet1k_dogs-2023-09-24-21-00-17/inet1k_dogs_final_ckpt.bin'\n",
    "args.dataset = 'inet1k_snakes'\n",
    "args.dataset_dir = 'data/inet1k_classes/snakes'\n",
    "ckpt_path = 'output/inet1k_snakes-2023-10-02-22-28-06/inet1k_snakes_final_ckpt.bin'\n",
    "# args.dataset = 'inet1k_trucks'\n",
    "# args.dataset_dir = 'data/inet1k_classes/trucks'\n",
    "# ckpt_path = 'output/inet1k_trucks-2023-09-24-20-47-28/inet1k_trucks_final_ckpt.bin'"
   ]
  },
  {
   "cell_type": "code",
   "execution_count": 14,
   "metadata": {},
   "outputs": [],
   "source": [
    "k_attn = 6144*2\n",
    "l_attn = 2\n",
    "n_attn = 768\n",
    "tffs = construct_real_tff(k_attn, l_attn // 2, n_attn // 2).to(args.device)\n",
    "frame_cat = tffs.view(-1, n_attn)"
   ]
  },
  {
   "cell_type": "code",
   "execution_count": 15,
   "metadata": {},
   "outputs": [
    {
     "data": {
      "text/plain": [
       "32.0"
      ]
     },
     "execution_count": 15,
     "metadata": {},
     "output_type": "execute_result"
    }
   ],
   "source": [
    "redundancy = k_attn/384\n",
    "redundancy"
   ]
  },
  {
   "cell_type": "code",
   "execution_count": 16,
   "metadata": {},
   "outputs": [
    {
     "name": "stdout",
     "output_type": "stream",
     "text": [
      "[1.  0.9 0.8 0.5 0.2]\n",
      "[0.  0.1 0.2 0.5 0.8]\n"
     ]
    }
   ],
   "source": [
    "# percent of frames to keep\n",
    "frame_percents = np.array([1, 0.9, 0.8, 0.5, 0.2])\n",
    "frame_drops = 1 - frame_percents\n",
    "print(frame_percents)\n",
    "print(frame_drops)"
   ]
  },
  {
   "cell_type": "code",
   "execution_count": 17,
   "metadata": {},
   "outputs": [],
   "source": [
    "train_loader, test_loader = get_loader(args)"
   ]
  },
  {
   "cell_type": "code",
   "execution_count": 18,
   "metadata": {},
   "outputs": [
    {
     "name": "stdout",
     "output_type": "stream",
     "text": [
      "12288\n",
      "85.806346\n"
     ]
    },
    {
     "name": "stderr",
     "output_type": "stream",
     "text": [
      "Validating... (loss=0.18873): 100%|| 16/16 [00:16<00:00,  1.02s/it]\n"
     ]
    },
    {
     "name": "stdout",
     "output_type": "stream",
     "text": [
      "85.806346\n"
     ]
    },
    {
     "name": "stderr",
     "output_type": "stream",
     "text": [
      "Validating... (loss=0.18873): 100%|| 16/16 [00:14<00:00,  1.14it/s]\n"
     ]
    },
    {
     "name": "stdout",
     "output_type": "stream",
     "text": [
      "85.806346\n"
     ]
    },
    {
     "name": "stderr",
     "output_type": "stream",
     "text": [
      "Validating... (loss=0.18873): 100%|| 16/16 [00:15<00:00,  1.03it/s]\n"
     ]
    },
    {
     "name": "stdout",
     "output_type": "stream",
     "text": [
      "85.806346\n"
     ]
    },
    {
     "name": "stderr",
     "output_type": "stream",
     "text": [
      "Validating... (loss=0.18873): 100%|| 16/16 [00:16<00:00,  1.04s/it]\n"
     ]
    },
    {
     "name": "stdout",
     "output_type": "stream",
     "text": [
      "85.806346\n"
     ]
    },
    {
     "name": "stderr",
     "output_type": "stream",
     "text": [
      "Validating... (loss=0.18873): 100%|| 16/16 [00:14<00:00,  1.08it/s]\n"
     ]
    },
    {
     "name": "stdout",
     "output_type": "stream",
     "text": [
      "85.806346\n"
     ]
    },
    {
     "name": "stderr",
     "output_type": "stream",
     "text": [
      "Validating... (loss=0.18873): 100%|| 16/16 [00:14<00:00,  1.14it/s]\n"
     ]
    },
    {
     "name": "stdout",
     "output_type": "stream",
     "text": [
      "85.806346\n"
     ]
    },
    {
     "name": "stderr",
     "output_type": "stream",
     "text": [
      "Validating... (loss=0.18873): 100%|| 16/16 [00:16<00:00,  1.00s/it]\n"
     ]
    },
    {
     "name": "stdout",
     "output_type": "stream",
     "text": [
      "85.806346\n"
     ]
    },
    {
     "name": "stderr",
     "output_type": "stream",
     "text": [
      "Validating... (loss=0.18873): 100%|| 16/16 [00:16<00:00,  1.03s/it]\n"
     ]
    },
    {
     "name": "stdout",
     "output_type": "stream",
     "text": [
      "85.806346\n"
     ]
    },
    {
     "name": "stderr",
     "output_type": "stream",
     "text": [
      "Validating... (loss=0.18873): 100%|| 16/16 [00:14<00:00,  1.14it/s]\n"
     ]
    },
    {
     "name": "stdout",
     "output_type": "stream",
     "text": [
      "85.806346\n"
     ]
    },
    {
     "name": "stderr",
     "output_type": "stream",
     "text": [
      "Validating... (loss=0.18873): 100%|| 16/16 [00:13<00:00,  1.15it/s]\n"
     ]
    },
    {
     "name": "stdout",
     "output_type": "stream",
     "text": [
      "frame_percent = 1.0 val_accs[-1] = 0.9806066633515662\n",
      "11059\n",
      "85.806346\n"
     ]
    },
    {
     "name": "stderr",
     "output_type": "stream",
     "text": [
      "Validating... (loss=0.20409): 100%|| 16/16 [00:16<00:00,  1.04s/it]\n"
     ]
    },
    {
     "name": "stdout",
     "output_type": "stream",
     "text": [
      "85.806346\n"
     ]
    },
    {
     "name": "stderr",
     "output_type": "stream",
     "text": [
      "Validating... (loss=0.20354): 100%|| 16/16 [00:16<00:00,  1.01s/it]\n"
     ]
    },
    {
     "name": "stdout",
     "output_type": "stream",
     "text": [
      "85.806346\n"
     ]
    },
    {
     "name": "stderr",
     "output_type": "stream",
     "text": [
      "Validating... (loss=0.20500): 100%|| 16/16 [00:11<00:00,  1.43it/s]\n"
     ]
    },
    {
     "name": "stdout",
     "output_type": "stream",
     "text": [
      "85.806346\n"
     ]
    },
    {
     "name": "stderr",
     "output_type": "stream",
     "text": [
      "Validating... (loss=0.20373): 100%|| 16/16 [00:10<00:00,  1.58it/s]\n"
     ]
    },
    {
     "name": "stdout",
     "output_type": "stream",
     "text": [
      "85.806346\n"
     ]
    },
    {
     "name": "stderr",
     "output_type": "stream",
     "text": [
      "Validating... (loss=0.20080): 100%|| 16/16 [00:10<00:00,  1.60it/s]\n"
     ]
    },
    {
     "name": "stdout",
     "output_type": "stream",
     "text": [
      "85.806346\n"
     ]
    },
    {
     "name": "stderr",
     "output_type": "stream",
     "text": [
      "Validating... (loss=0.20046): 100%|| 16/16 [00:10<00:00,  1.59it/s]\n"
     ]
    },
    {
     "name": "stdout",
     "output_type": "stream",
     "text": [
      "85.806346\n"
     ]
    },
    {
     "name": "stderr",
     "output_type": "stream",
     "text": [
      "Validating... (loss=0.20402): 100%|| 16/16 [00:10<00:00,  1.59it/s]\n"
     ]
    },
    {
     "name": "stdout",
     "output_type": "stream",
     "text": [
      "85.806346\n"
     ]
    },
    {
     "name": "stderr",
     "output_type": "stream",
     "text": [
      "Validating... (loss=0.20453): 100%|| 16/16 [00:10<00:00,  1.59it/s]\n"
     ]
    },
    {
     "name": "stdout",
     "output_type": "stream",
     "text": [
      "85.806346\n"
     ]
    },
    {
     "name": "stderr",
     "output_type": "stream",
     "text": [
      "Validating... (loss=0.20506): 100%|| 16/16 [00:10<00:00,  1.55it/s]\n"
     ]
    },
    {
     "name": "stdout",
     "output_type": "stream",
     "text": [
      "85.806346\n"
     ]
    },
    {
     "name": "stderr",
     "output_type": "stream",
     "text": [
      "Validating... (loss=0.20316): 100%|| 16/16 [00:10<00:00,  1.59it/s]\n"
     ]
    },
    {
     "name": "stdout",
     "output_type": "stream",
     "text": [
      "frame_percent = 0.9 val_accs[-1] = 0.9788165091994031\n",
      "9830\n",
      "85.806346\n"
     ]
    },
    {
     "name": "stderr",
     "output_type": "stream",
     "text": [
      "Validating... (loss=0.40042): 100%|| 16/16 [00:10<00:00,  1.59it/s]\n"
     ]
    },
    {
     "name": "stdout",
     "output_type": "stream",
     "text": [
      "85.806346\n"
     ]
    },
    {
     "name": "stderr",
     "output_type": "stream",
     "text": [
      "Validating... (loss=0.39382): 100%|| 16/16 [00:10<00:00,  1.60it/s]\n"
     ]
    },
    {
     "name": "stdout",
     "output_type": "stream",
     "text": [
      "85.806346\n"
     ]
    },
    {
     "name": "stderr",
     "output_type": "stream",
     "text": [
      "Validating... (loss=0.37075): 100%|| 16/16 [00:10<00:00,  1.59it/s]\n"
     ]
    },
    {
     "name": "stdout",
     "output_type": "stream",
     "text": [
      "85.806346\n"
     ]
    },
    {
     "name": "stderr",
     "output_type": "stream",
     "text": [
      "Validating... (loss=0.36433): 100%|| 16/16 [00:10<00:00,  1.59it/s]\n"
     ]
    },
    {
     "name": "stdout",
     "output_type": "stream",
     "text": [
      "85.806346\n"
     ]
    },
    {
     "name": "stderr",
     "output_type": "stream",
     "text": [
      "Validating... (loss=0.38640): 100%|| 16/16 [00:10<00:00,  1.57it/s]\n"
     ]
    },
    {
     "name": "stdout",
     "output_type": "stream",
     "text": [
      "85.806346\n"
     ]
    },
    {
     "name": "stderr",
     "output_type": "stream",
     "text": [
      "Validating... (loss=0.33149): 100%|| 16/16 [00:10<00:00,  1.59it/s]\n"
     ]
    },
    {
     "name": "stdout",
     "output_type": "stream",
     "text": [
      "85.806346\n"
     ]
    },
    {
     "name": "stderr",
     "output_type": "stream",
     "text": [
      "Validating... (loss=0.34360): 100%|| 16/16 [00:10<00:00,  1.59it/s]\n"
     ]
    },
    {
     "name": "stdout",
     "output_type": "stream",
     "text": [
      "85.806346\n"
     ]
    },
    {
     "name": "stderr",
     "output_type": "stream",
     "text": [
      "Validating... (loss=0.36455): 100%|| 16/16 [00:10<00:00,  1.59it/s]\n"
     ]
    },
    {
     "name": "stdout",
     "output_type": "stream",
     "text": [
      "85.806346\n"
     ]
    },
    {
     "name": "stderr",
     "output_type": "stream",
     "text": [
      "Validating... (loss=0.37096): 100%|| 16/16 [00:10<00:00,  1.59it/s]\n"
     ]
    },
    {
     "name": "stdout",
     "output_type": "stream",
     "text": [
      "85.806346\n"
     ]
    },
    {
     "name": "stderr",
     "output_type": "stream",
     "text": [
      "Validating... (loss=0.33739): 100%|| 16/16 [00:10<00:00,  1.59it/s]\n"
     ]
    },
    {
     "name": "stdout",
     "output_type": "stream",
     "text": [
      "frame_percent = 0.8 val_accs[-1] = 0.9035803083043262\n",
      "6144\n",
      "85.806346\n"
     ]
    },
    {
     "name": "stderr",
     "output_type": "stream",
     "text": [
      "Validating... (loss=2.25078): 100%|| 16/16 [00:10<00:00,  1.58it/s]\n"
     ]
    },
    {
     "name": "stdout",
     "output_type": "stream",
     "text": [
      "85.806346\n"
     ]
    },
    {
     "name": "stderr",
     "output_type": "stream",
     "text": [
      "Validating... (loss=2.30629): 100%|| 16/16 [00:10<00:00,  1.58it/s]\n"
     ]
    },
    {
     "name": "stdout",
     "output_type": "stream",
     "text": [
      "85.806346\n"
     ]
    },
    {
     "name": "stderr",
     "output_type": "stream",
     "text": [
      "Validating... (loss=2.19738): 100%|| 16/16 [00:10<00:00,  1.59it/s]\n"
     ]
    },
    {
     "name": "stdout",
     "output_type": "stream",
     "text": [
      "85.806346\n"
     ]
    },
    {
     "name": "stderr",
     "output_type": "stream",
     "text": [
      "Validating... (loss=2.27287): 100%|| 16/16 [00:10<00:00,  1.59it/s]\n"
     ]
    },
    {
     "name": "stdout",
     "output_type": "stream",
     "text": [
      "85.806346\n"
     ]
    },
    {
     "name": "stderr",
     "output_type": "stream",
     "text": [
      "Validating... (loss=2.23196): 100%|| 16/16 [00:10<00:00,  1.58it/s]\n"
     ]
    },
    {
     "name": "stdout",
     "output_type": "stream",
     "text": [
      "85.806346\n"
     ]
    },
    {
     "name": "stderr",
     "output_type": "stream",
     "text": [
      "Validating... (loss=2.22399): 100%|| 16/16 [00:10<00:00,  1.59it/s]\n"
     ]
    },
    {
     "name": "stdout",
     "output_type": "stream",
     "text": [
      "85.806346\n"
     ]
    },
    {
     "name": "stderr",
     "output_type": "stream",
     "text": [
      "Validating... (loss=2.23530): 100%|| 16/16 [00:10<00:00,  1.59it/s]\n"
     ]
    },
    {
     "name": "stdout",
     "output_type": "stream",
     "text": [
      "85.806346\n"
     ]
    },
    {
     "name": "stderr",
     "output_type": "stream",
     "text": [
      "Validating... (loss=2.22205): 100%|| 16/16 [00:10<00:00,  1.59it/s]\n"
     ]
    },
    {
     "name": "stdout",
     "output_type": "stream",
     "text": [
      "85.806346\n"
     ]
    },
    {
     "name": "stderr",
     "output_type": "stream",
     "text": [
      "Validating... (loss=2.18314): 100%|| 16/16 [00:10<00:00,  1.59it/s]\n"
     ]
    },
    {
     "name": "stdout",
     "output_type": "stream",
     "text": [
      "85.806346\n"
     ]
    },
    {
     "name": "stderr",
     "output_type": "stream",
     "text": [
      "Validating... (loss=2.22415): 100%|| 16/16 [00:10<00:00,  1.59it/s]\n"
     ]
    },
    {
     "name": "stdout",
     "output_type": "stream",
     "text": [
      "frame_percent = 0.5 val_accs[-1] = 0.19726504226752856\n",
      "2457\n",
      "85.806346\n"
     ]
    },
    {
     "name": "stderr",
     "output_type": "stream",
     "text": [
      "Validating... (loss=2.34728): 100%|| 16/16 [00:10<00:00,  1.59it/s]\n"
     ]
    },
    {
     "name": "stdout",
     "output_type": "stream",
     "text": [
      "85.806346\n"
     ]
    },
    {
     "name": "stderr",
     "output_type": "stream",
     "text": [
      "Validating... (loss=2.34081): 100%|| 16/16 [00:10<00:00,  1.59it/s]\n"
     ]
    },
    {
     "name": "stdout",
     "output_type": "stream",
     "text": [
      "85.806346\n"
     ]
    },
    {
     "name": "stderr",
     "output_type": "stream",
     "text": [
      "Validating... (loss=2.34222): 100%|| 16/16 [00:10<00:00,  1.59it/s]\n"
     ]
    },
    {
     "name": "stdout",
     "output_type": "stream",
     "text": [
      "85.806346\n"
     ]
    },
    {
     "name": "stderr",
     "output_type": "stream",
     "text": [
      "Validating... (loss=2.34864): 100%|| 16/16 [00:10<00:00,  1.59it/s]\n"
     ]
    },
    {
     "name": "stdout",
     "output_type": "stream",
     "text": [
      "85.806346\n"
     ]
    },
    {
     "name": "stderr",
     "output_type": "stream",
     "text": [
      "Validating... (loss=2.35022): 100%|| 16/16 [00:10<00:00,  1.59it/s]\n"
     ]
    },
    {
     "name": "stdout",
     "output_type": "stream",
     "text": [
      "85.806346\n"
     ]
    },
    {
     "name": "stderr",
     "output_type": "stream",
     "text": [
      "Validating... (loss=2.34502): 100%|| 16/16 [00:10<00:00,  1.60it/s]\n"
     ]
    },
    {
     "name": "stdout",
     "output_type": "stream",
     "text": [
      "85.806346\n"
     ]
    },
    {
     "name": "stderr",
     "output_type": "stream",
     "text": [
      "Validating... (loss=2.34409): 100%|| 16/16 [00:10<00:00,  1.59it/s]\n"
     ]
    },
    {
     "name": "stdout",
     "output_type": "stream",
     "text": [
      "85.806346\n"
     ]
    },
    {
     "name": "stderr",
     "output_type": "stream",
     "text": [
      "Validating... (loss=2.34829): 100%|| 16/16 [00:10<00:00,  1.59it/s]\n"
     ]
    },
    {
     "name": "stdout",
     "output_type": "stream",
     "text": [
      "85.806346\n"
     ]
    },
    {
     "name": "stderr",
     "output_type": "stream",
     "text": [
      "Validating... (loss=2.33882): 100%|| 16/16 [00:10<00:00,  1.59it/s]\n"
     ]
    },
    {
     "name": "stdout",
     "output_type": "stream",
     "text": [
      "85.806346\n"
     ]
    },
    {
     "name": "stderr",
     "output_type": "stream",
     "text": [
      "Validating... (loss=2.34982): 100%|| 16/16 [00:10<00:00,  1.59it/s]"
     ]
    },
    {
     "name": "stdout",
     "output_type": "stream",
     "text": [
      "frame_percent = 0.2 val_accs[-1] = 0.1032819492789657\n"
     ]
    },
    {
     "name": "stderr",
     "output_type": "stream",
     "text": [
      "\n"
     ]
    }
   ],
   "source": [
    "num_itrs = 10\n",
    "val_accs = []\n",
    "norm_percents = []\n",
    "with torch.no_grad():\n",
    "    for frame_percent in frame_percents:\n",
    "        frames_count = int(frame_percent * k_attn)\n",
    "        print(frames_count)\n",
    "\n",
    "        val_acc_i = 0\n",
    "        norm_percent_i = 0\n",
    "        for itr in range(num_itrs):\n",
    "            args, model = setup(args)\n",
    "            model.load_state_dict(torch.load(ckpt_path))\n",
    "            norm_percent = 0\n",
    "            weight_count = 0\n",
    "            for (name, param) in model.named_parameters():\n",
    "                if 'attn' in name:\n",
    "                    if 'weight' in name:\n",
    "                        # U, S, Vh = torch.linalg.svd(param)\n",
    "                        # RotMat = U @ frame_cat\n",
    "                        # new_projs = torch.matmul(tffs, RotMat.transpose(0,1) ) @ param\n",
    "                        # new_norms = torch.norm(new_projs, dim=(1,2))\n",
    "                        # new_norms_sorted, indices = torch.sort(new_norms, descending=True)\n",
    "                        # norm_percent += torch.sqrt((new_norms_sorted[:frames_count]**2).sum()/(new_norms**2).sum())\n",
    "                        # weight_count += 1\n",
    "\n",
    "                        indices = torch.randperm(k_attn)\n",
    "                        new_frames_filtered = tffs[indices[:frames_count]].view(-1,n_attn)\n",
    "                        new_proj_mat = new_frames_filtered.transpose(0,1) @ new_frames_filtered\n",
    "\n",
    "                        # new_projs = torch.matmul(new_frames_filtered, param)\n",
    "                        # norm_percent += (torch.norm(new_projs) / torch.norm(param))**2\n",
    "                        # weight_count += 1\n",
    "\n",
    "                        param.data = new_proj_mat @ param.data \n",
    "\n",
    "            # norm_percents.append(norm_percent.item() /(weight_count))\n",
    "            val_acc_i += valid(args, model, writer=None, test_loader=test_loader, global_step=0)\n",
    "            # norm_percent_i += norm_percent.item()/weight_count\n",
    "        val_accs.append(val_acc_i/num_itrs)\n",
    "        # norm_percents.append(norm_percent_i/num_itrs)\n",
    "\n",
    "        # print(f'{frame_percent = }, norm_percent = {norm_percents[-1]} {val_accs[-1] = }')\n",
    "        print(f'{frame_percent = } {val_accs[-1] = }')"
   ]
  },
  {
   "cell_type": "code",
   "execution_count": 19,
   "metadata": {},
   "outputs": [
    {
     "name": "stdout",
     "output_type": "stream",
     "text": [
      "1.0 12288 0.9806066633515662\n",
      "0.9 11059 0.9788165091994031\n",
      "0.8 9830 0.9035803083043262\n",
      "0.5 6144 0.19726504226752856\n",
      "0.2 2457 0.1032819492789657\n"
     ]
    }
   ],
   "source": [
    "for frame_percent, val_acc in zip(frame_percents, val_accs):\n",
    "    frames_count = int(frame_percent * k_attn)\n",
    "    print(frame_percent, frames_count, val_acc)\n"
   ]
  },
  {
   "cell_type": "code",
   "execution_count": 20,
   "metadata": {},
   "outputs": [
    {
     "data": {
      "image/png": "[encoded data removed]",
      "text/plain": [
       "<Figure size 640x480 with 1 Axes>"
      ]
     },
     "metadata": {},
     "output_type": "display_data"
    }
   ],
   "source": [
    "plt.plot(frame_drops, val_accs)\n",
    "plt.title(f'Val Accuracy Vs % frames used on {args.dataset}')\n",
    "plt.xlabel(f'% of Frames used')\n",
    "plt.ylabel(f'Validation Accuracy')\n",
    "plt.savefig(f'highSample_{args.dataset}_val_vs_frames.png')\n",
    "plt.show()\n",
    "\n",
    "# plt.plot(frame_percents, norm_percents)\n",
    "# plt.title(f'% Norm retained Vs % frames used on {args.dataset}')\n",
    "# plt.xlabel(f'% of Frames used')\n",
    "# plt.ylabel(f'avg % of norm retained')\n",
    "# plt.savefig(f'{args.dataset}_norm_vs_frames.png')\n",
    "# plt.show()\n",
    "# \n",
    "# plt.plot(norm_percents, val_accs)\n",
    "# plt.title(f'Val accuracy Vs % Norm retained on {args.dataset}')\n",
    "# plt.xlabel(f'avg % of norm retained')\n",
    "# plt.ylabel(f'Validation accuracy')\n",
    "# plt.savefig(f'{args.dataset}_Val_vs_norm.png')\n",
    "# plt.show()"
   ]
  }
 ],
 "metadata": {
  "kernelspec": {
   "display_name": "bnetff",
   "language": "python",
   "name": "python3"
  },
  "language_info": {
   "codemirror_mode": {
    "name": "ipython",
    "version": 3
   },
   "file_extension": ".py",
   "mimetype": "text/x-python",
   "name": "python",
   "nbconvert_exporter": "python",
   "pygments_lexer": "ipython3",
   "version": "3.11.5"
  },
  "orig_nbformat": 4
 },
 "nbformat": 4,
 "nbformat_minor": 2
}
